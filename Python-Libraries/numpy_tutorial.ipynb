{
  "nbformat": 4,
  "nbformat_minor": 0,
  "metadata": {
    "colab": {
      "provenance": [],
      "authorship_tag": "ABX9TyONwM6JJbSJ/lMjDWHEH6sG",
      "include_colab_link": true
    },
    "kernelspec": {
      "name": "python3",
      "display_name": "Python 3"
    },
    "language_info": {
      "name": "python"
    }
  },
  "cells": [
    {
      "cell_type": "markdown",
      "metadata": {
        "id": "view-in-github",
        "colab_type": "text"
      },
      "source": [
        "<a href=\"https://colab.research.google.com/github/Shamil2007/Python-Tutorials/blob/main/Python-Tutorials/numpy_tutorial.ipynb\" target=\"_parent\"><img src=\"https://colab.research.google.com/assets/colab-badge.svg\" alt=\"Open In Colab\"/></a>"
      ]
    },
    {
      "cell_type": "markdown",
      "source": [
        "Numerical Computing in Python\n",
        "- Let's dive into NumPy, the fundamental package for scientific computing in Python. NumPy provides support for large, multi-dimensional arrays and matrices, along with a vast collection of mathematical functions to operate on these arrays."
      ],
      "metadata": {
        "id": "bM8n-jOIaYFN"
      }
    },
    {
      "cell_type": "code",
      "execution_count": 1,
      "metadata": {
        "id": "L3HNB7tA8HaC"
      },
      "outputs": [],
      "source": [
        "import numpy as np"
      ]
    },
    {
      "cell_type": "markdown",
      "source": [
        "# NumPy Arrays"
      ],
      "metadata": {
        "id": "8Ij6Q0-Qa10f"
      }
    },
    {
      "cell_type": "markdown",
      "source": [
        "Why NumPy Arrays?\n",
        "- Efficiency: Store data more compactly than Python lists\n",
        "\n",
        "- Speed: Optimized C backend for fast operations\n",
        "\n",
        "- Functionality: Rich set of built-in operations\n",
        "\n",
        "- Interoperability: Foundation for pandas, scikit-learn, etc."
      ],
      "metadata": {
        "id": "SAfTpxhka6Mw"
      }
    },
    {
      "cell_type": "code",
      "source": [
        "# From Python lists\n",
        "arr1d = np.array([1, 2, 3, 4, 5])         # 1D array\n",
        "arr2d = np.array([[1, 2, 3], [4, 5, 6]])  # 2D array\n",
        "\n",
        "print(\"1D Array:\")\n",
        "print(arr1d)\n",
        "print(\"\\n2D Array:\")\n",
        "print(arr2d)"
      ],
      "metadata": {
        "colab": {
          "base_uri": "https://localhost:8080/"
        },
        "id": "EFlGTBoxazx5",
        "outputId": "4c9f73df-2e08-4c31-d63b-6ad2819081c8"
      },
      "execution_count": 2,
      "outputs": [
        {
          "output_type": "stream",
          "name": "stdout",
          "text": [
            "1D Array:\n",
            "[1 2 3 4 5]\n",
            "\n",
            "2D Array:\n",
            "[[1 2 3]\n",
            " [4 5 6]]\n"
          ]
        }
      ]
    },
    {
      "cell_type": "code",
      "source": [
        "# Special arrays\n",
        "zeros_arr = np.zeros(5)\n",
        "print(f\"1D array filled with zeros (length 5): {zeros_arr}\")\n",
        "print(100 * '_')\n",
        "\n",
        "ones_arr = np.ones((2, 3))\n",
        "print(f\"2D array filled with ones (2x3):\\n{ones_arr}\")\n",
        "print(100 * '_')\n",
        "\n",
        "identity_matrix = np.eye(3)\n",
        "print(f\"3x3 Identity matrix:\\n{identity_matrix}\")\n",
        "print(100 * '_')\n",
        "\n",
        "range_arr = np.arange(0, 10, 2)\n",
        "print(f\"Range array from 0 to 10 with step 2: {range_arr}\")\n",
        "print(100 * '_')\n",
        "\n",
        "linspace_arr = np.linspace(0, 1, 5)\n",
        "print(f\"Linearly spaced array from 0 to 1 with 5 values: {linspace_arr}\")"
      ],
      "metadata": {
        "colab": {
          "base_uri": "https://localhost:8080/"
        },
        "id": "FfHkgScrbO-d",
        "outputId": "29aed7b9-3b16-4121-9a35-0d8d6f05bf7a"
      },
      "execution_count": 3,
      "outputs": [
        {
          "output_type": "stream",
          "name": "stdout",
          "text": [
            "1D array filled with zeros (length 5): [0. 0. 0. 0. 0.]\n",
            "____________________________________________________________________________________________________\n",
            "2D array filled with ones (2x3):\n",
            "[[1. 1. 1.]\n",
            " [1. 1. 1.]]\n",
            "____________________________________________________________________________________________________\n",
            "3x3 Identity matrix:\n",
            "[[1. 0. 0.]\n",
            " [0. 1. 0.]\n",
            " [0. 0. 1.]]\n",
            "____________________________________________________________________________________________________\n",
            "Range array from 0 to 10 with step 2: [0 2 4 6 8]\n",
            "____________________________________________________________________________________________________\n",
            "Linearly spaced array from 0 to 1 with 5 values: [0.   0.25 0.5  0.75 1.  ]\n"
          ]
        }
      ]
    },
    {
      "cell_type": "code",
      "source": [
        "# Reproducible randomness\n",
        "np.random.seed(42)\n",
        "\n",
        "# Random arrays\n",
        "rand_uniform = np.random.rand(3, 2)\n",
        "print(f\"Uniform distribution (0-1): {rand_uniform}\")\n",
        "print(100 * '_')\n",
        "\n",
        "arr_uniform = np.random.uniform(1, 5, size=(3, 2))\n",
        "print(f\"Using np.random.uniform(): {arr_uniform}\")\n",
        "print(100 * '_')\n",
        "\n",
        "\n",
        "rand_normal = np.random.rand(20)\n",
        "print(f\"Standard normal distribution {rand_normal}\")\n",
        "print(100 * '_')\n",
        "\n",
        "rand_int = np.random.randint(1, 10, size=5)\n",
        "print(f\"Random integers {rand_int}\")"
      ],
      "metadata": {
        "colab": {
          "base_uri": "https://localhost:8080/"
        },
        "id": "_RmmXahicfuP",
        "outputId": "1b768674-258e-40a3-cb18-b133c43037c1"
      },
      "execution_count": 4,
      "outputs": [
        {
          "output_type": "stream",
          "name": "stdout",
          "text": [
            "Uniform distribution (0-1): [[0.37454012 0.95071431]\n",
            " [0.73199394 0.59865848]\n",
            " [0.15601864 0.15599452]]\n",
            "____________________________________________________________________________________________________\n",
            "Using np.random.uniform(): [[1.23233445 4.46470458]\n",
            " [3.40446005 3.83229031]\n",
            " [1.08233798 4.87963941]]\n",
            "____________________________________________________________________________________________________\n",
            "Standard normal distribution [0.83244264 0.21233911 0.18182497 0.18340451 0.30424224 0.52475643\n",
            " 0.43194502 0.29122914 0.61185289 0.13949386 0.29214465 0.36636184\n",
            " 0.45606998 0.78517596 0.19967378 0.51423444 0.59241457 0.04645041\n",
            " 0.60754485 0.17052412]\n",
            "____________________________________________________________________________________________________\n",
            "Random integers [7 2 4 9 2]\n"
          ]
        }
      ]
    },
    {
      "cell_type": "markdown",
      "source": [
        "#Array Attributes"
      ],
      "metadata": {
        "id": "2X_I9DnXe7w2"
      }
    },
    {
      "cell_type": "code",
      "source": [
        "arr = np.array([[1, 2, 3], [4, 5, 6]])\n",
        "\n",
        "print(\"Array:\")\n",
        "print(arr)\n",
        "print()\n",
        "\n",
        "print(\"Properties:\")\n",
        "print(f\"- Number of dimensions     : {arr.ndim}\")\n",
        "print(f\"- Shape (rows, columns)    : {arr.shape}\")\n",
        "print(f\"- Total number of elements : {arr.size}\")\n",
        "print(f\"- Data type of elements    : {arr.dtype}\")"
      ],
      "metadata": {
        "colab": {
          "base_uri": "https://localhost:8080/"
        },
        "id": "tqxl_v2tegTL",
        "outputId": "d65b68d2-49e7-44b7-c051-469068513232"
      },
      "execution_count": 5,
      "outputs": [
        {
          "output_type": "stream",
          "name": "stdout",
          "text": [
            "Array:\n",
            "[[1 2 3]\n",
            " [4 5 6]]\n",
            "\n",
            "Properties:\n",
            "- Number of dimensions     : 2\n",
            "- Shape (rows, columns)    : (2, 3)\n",
            "- Total number of elements : 6\n",
            "- Data type of elements    : int64\n"
          ]
        }
      ]
    },
    {
      "cell_type": "code",
      "source": [
        "a = np.array([1, 2, 4])\n",
        "b = np.array([4, 5, 6])\n",
        "\n",
        "print(\"Array A:\", a)\n",
        "print(\"Array B:\", b)\n",
        "print()\n",
        "\n",
        "# Element-wise operations\n",
        "print(\"Element-wise Addition (A + B):\", a + b)\n",
        "print(\"Multiply A by 2 (A * 2):\", a * 2)\n",
        "print(\"Square of A (A ** 2):\", a ** 2)"
      ],
      "metadata": {
        "colab": {
          "base_uri": "https://localhost:8080/"
        },
        "id": "frYQeisofEGu",
        "outputId": "018e3f92-356b-4181-958f-747b4c0fb78c"
      },
      "execution_count": 6,
      "outputs": [
        {
          "output_type": "stream",
          "name": "stdout",
          "text": [
            "Array A: [1 2 4]\n",
            "Array B: [4 5 6]\n",
            "\n",
            "Element-wise Addition (A + B): [ 5  7 10]\n",
            "Multiply A by 2 (A * 2): [2 4 8]\n",
            "Square of A (A ** 2): [ 1  4 16]\n"
          ]
        }
      ]
    },
    {
      "cell_type": "code",
      "source": [
        "# Dot product of vectors a and b\n",
        "dot_product = np.dot(a, b)\n",
        "print(\"Dot product of a and b:\", dot_product) # (1*4 + 2*5 + 3*6)"
      ],
      "metadata": {
        "colab": {
          "base_uri": "https://localhost:8080/"
        },
        "id": "IsXos9mVhtEu",
        "outputId": "06b70ef6-851e-4ae8-b2d0-eb7404918df1"
      },
      "execution_count": 7,
      "outputs": [
        {
          "output_type": "stream",
          "name": "stdout",
          "text": [
            "Dot product of a and b: 38\n"
          ]
        }
      ]
    },
    {
      "cell_type": "code",
      "source": [
        "# Broadcasting example: adding scalar 5 to each element in array a\n",
        "result = a + 5\n",
        "print(\"Result of broadcasting (a + 5):\", result)"
      ],
      "metadata": {
        "colab": {
          "base_uri": "https://localhost:8080/"
        },
        "id": "f5Nuw2lUh5Qj",
        "outputId": "ebc270e4-0c38-4513-c350-13c0a6333026"
      },
      "execution_count": 8,
      "outputs": [
        {
          "output_type": "stream",
          "name": "stdout",
          "text": [
            "Result of broadcasting (a + 5): [6 7 9]\n"
          ]
        }
      ]
    },
    {
      "cell_type": "markdown",
      "source": [
        "#Practice Exercieses 1"
      ],
      "metadata": {
        "id": "Iw2KXGdYikMn"
      }
    },
    {
      "cell_type": "markdown",
      "source": [
        "- Create a 3x3 array of random numbers between 5 and 10\n",
        "\n",
        "- Create a 5x5 identity matrix and multiply it by 3\n",
        "\n",
        "- Generate an array of 20 evenly spaced numbers between -1 and 1"
      ],
      "metadata": {
        "id": "rCyvatCfio9t"
      }
    },
    {
      "cell_type": "code",
      "source": [
        "# Method 1: Using np.random.uniform()\n",
        "arr_uniform = np.random.uniform(5, 10, size=(3, 3))\n",
        "print(\"Using np.random.uniform():\")\n",
        "print(arr_uniform)\n",
        "\n",
        "# Method 2: Using np.random.rand() scaled and shifted\n",
        "arr_scaled = 5 + (10 - 5) * np.random.rand(3, 3)\n",
        "print(\"\\nUsing np.random.rand() scaled:\")\n",
        "print(arr_scaled)"
      ],
      "metadata": {
        "colab": {
          "base_uri": "https://localhost:8080/"
        },
        "id": "sZHDBH31if0u",
        "outputId": "929c53db-0b29-4b2a-c406-5c9d9377ee13"
      },
      "execution_count": 9,
      "outputs": [
        {
          "output_type": "stream",
          "name": "stdout",
          "text": [
            "Using np.random.uniform():\n",
            "[[6.92708251 5.07983126 6.15446913]\n",
            " [6.20512733 8.41631759 8.04998329]\n",
            " [9.16597456 5.86682327 6.95530304]]\n",
            "\n",
            "Using np.random.rand() scaled:\n",
            "[[5.91118044 8.77680705 7.12577937]\n",
            " [6.03970831 7.83850164 5.15656646]\n",
            " [9.21142387 7.24877067 6.97575118]]\n"
          ]
        }
      ]
    },
    {
      "cell_type": "code",
      "source": [
        "# Create identity matrix\n",
        "identity_matrix = np.eye(5)\n",
        "print(\"5x5 Identity Matrix:\")\n",
        "print(identity_matrix)\n",
        "\n",
        "# Multiply by 3\n",
        "scaled_matrix = 3 * identity_matrix\n",
        "print(\"\\nMultiplied by 3:\")\n",
        "print(scaled_matrix)"
      ],
      "metadata": {
        "colab": {
          "base_uri": "https://localhost:8080/"
        },
        "id": "Yizvsft9kKls",
        "outputId": "ba440d88-0158-4b73-ed71-81b77307e2db"
      },
      "execution_count": 10,
      "outputs": [
        {
          "output_type": "stream",
          "name": "stdout",
          "text": [
            "5x5 Identity Matrix:\n",
            "[[1. 0. 0. 0. 0.]\n",
            " [0. 1. 0. 0. 0.]\n",
            " [0. 0. 1. 0. 0.]\n",
            " [0. 0. 0. 1. 0.]\n",
            " [0. 0. 0. 0. 1.]]\n",
            "\n",
            "Multiplied by 3:\n",
            "[[3. 0. 0. 0. 0.]\n",
            " [0. 3. 0. 0. 0.]\n",
            " [0. 0. 3. 0. 0.]\n",
            " [0. 0. 0. 3. 0.]\n",
            " [0. 0. 0. 0. 3.]]\n"
          ]
        }
      ]
    },
    {
      "cell_type": "code",
      "source": [
        "# Using np.linspace()\n",
        "evenly_spaced = np.linspace(-1, 1, 20)\n",
        "print(\"20 evenly spaced numbers between -1 and 1:\")\n",
        "print(evenly_spaced)"
      ],
      "metadata": {
        "colab": {
          "base_uri": "https://localhost:8080/"
        },
        "id": "Tj6OsfwLkc6e",
        "outputId": "899f411a-64e5-4aff-ef89-ab5eba817cdf"
      },
      "execution_count": 11,
      "outputs": [
        {
          "output_type": "stream",
          "name": "stdout",
          "text": [
            "20 evenly spaced numbers between -1 and 1:\n",
            "[-1.         -0.89473684 -0.78947368 -0.68421053 -0.57894737 -0.47368421\n",
            " -0.36842105 -0.26315789 -0.15789474 -0.05263158  0.05263158  0.15789474\n",
            "  0.26315789  0.36842105  0.47368421  0.57894737  0.68421053  0.78947368\n",
            "  0.89473684  1.        ]\n"
          ]
        }
      ]
    },
    {
      "cell_type": "markdown",
      "source": [
        "#Basic Indexing"
      ],
      "metadata": {
        "id": "ooHabs31ngD6"
      }
    },
    {
      "cell_type": "code",
      "source": [
        "arr = np.array([[1, 2, 3], [4, 5, 6], [7, 8, 9]])\n",
        "\n",
        "# Single element\n",
        "arr[0, 1] # (row 0, column 1)"
      ],
      "metadata": {
        "colab": {
          "base_uri": "https://localhost:8080/"
        },
        "id": "xpH9702FkkFT",
        "outputId": "7b39c5e7-1409-489e-9c1b-bcb0aafbc04a"
      },
      "execution_count": 12,
      "outputs": [
        {
          "output_type": "execute_result",
          "data": {
            "text/plain": [
              "np.int64(2)"
            ]
          },
          "metadata": {},
          "execution_count": 12
        }
      ]
    },
    {
      "cell_type": "code",
      "source": [
        "arr[:2, 1:] # Rows 0-1, columns 1-end"
      ],
      "metadata": {
        "colab": {
          "base_uri": "https://localhost:8080/"
        },
        "id": "4wDY4Raxnukb",
        "outputId": "c2ee1d3b-ee1d-4e11-f5f9-04792c7c29ef"
      },
      "execution_count": 13,
      "outputs": [
        {
          "output_type": "execute_result",
          "data": {
            "text/plain": [
              "array([[2, 3],\n",
              "       [5, 6]])"
            ]
          },
          "metadata": {},
          "execution_count": 13
        }
      ]
    },
    {
      "cell_type": "code",
      "source": [
        "arr[::2, ::2] # Every other row and column"
      ],
      "metadata": {
        "colab": {
          "base_uri": "https://localhost:8080/"
        },
        "id": "x_hBLgfHn52p",
        "outputId": "3097302d-dc7c-409a-efe8-475af777d741"
      },
      "execution_count": 14,
      "outputs": [
        {
          "output_type": "execute_result",
          "data": {
            "text/plain": [
              "array([[1, 3],\n",
              "       [7, 9]])"
            ]
          },
          "metadata": {},
          "execution_count": 14
        }
      ]
    },
    {
      "cell_type": "markdown",
      "source": [
        "#Boolean Indexing"
      ],
      "metadata": {
        "id": "BK3KgMuioPVP"
      }
    },
    {
      "cell_type": "code",
      "source": [
        "arr = np.array([3, 1, 4, 1, 5, 9, 2, 6])\n",
        "\n",
        "# Filter elements\n",
        "arr[arr > 3]"
      ],
      "metadata": {
        "colab": {
          "base_uri": "https://localhost:8080/"
        },
        "id": "47JfqrMnoEkg",
        "outputId": "3d5517fe-fe59-4435-94f2-92b6bab18d93"
      },
      "execution_count": 15,
      "outputs": [
        {
          "output_type": "execute_result",
          "data": {
            "text/plain": [
              "array([4, 5, 9, 6])"
            ]
          },
          "metadata": {},
          "execution_count": 15
        }
      ]
    },
    {
      "cell_type": "code",
      "source": [
        "# Multiple conditions\n",
        "arr[(arr > 2) & (arr < 6)]"
      ],
      "metadata": {
        "colab": {
          "base_uri": "https://localhost:8080/"
        },
        "id": "EqIWA0b-oYgT",
        "outputId": "b6780ae7-cfde-42ef-cd89-b4f395450820"
      },
      "execution_count": 16,
      "outputs": [
        {
          "output_type": "execute_result",
          "data": {
            "text/plain": [
              "array([3, 4, 5])"
            ]
          },
          "metadata": {},
          "execution_count": 16
        }
      ]
    },
    {
      "cell_type": "code",
      "source": [
        "# Set values conditionally\n",
        "arr[arr < 3] = 0\n",
        "arr"
      ],
      "metadata": {
        "colab": {
          "base_uri": "https://localhost:8080/"
        },
        "id": "N4WooUJsog9A",
        "outputId": "51e4f2aa-559c-4412-9472-8809aec94005"
      },
      "execution_count": 17,
      "outputs": [
        {
          "output_type": "execute_result",
          "data": {
            "text/plain": [
              "array([3, 0, 4, 0, 5, 9, 0, 6])"
            ]
          },
          "metadata": {},
          "execution_count": 17
        }
      ]
    },
    {
      "cell_type": "markdown",
      "source": [
        "#Fancy Indexing"
      ],
      "metadata": {
        "id": "awHMjy84oqtD"
      }
    },
    {
      "cell_type": "code",
      "source": [
        "arr = np.arange(10, 100, 10)\n",
        "print(f\"Array : {arr}\")\n",
        "\n",
        "# Integer array indexing\n",
        "arr[[1, 3, 5]]"
      ],
      "metadata": {
        "colab": {
          "base_uri": "https://localhost:8080/"
        },
        "id": "jt8G62vIon6O",
        "outputId": "589fe1bd-cace-4cd5-beac-e92d8ecc3b11"
      },
      "execution_count": 18,
      "outputs": [
        {
          "output_type": "stream",
          "name": "stdout",
          "text": [
            "Array : [10 20 30 40 50 60 70 80 90]\n"
          ]
        },
        {
          "output_type": "execute_result",
          "data": {
            "text/plain": [
              "array([20, 40, 60])"
            ]
          },
          "metadata": {},
          "execution_count": 18
        }
      ]
    },
    {
      "cell_type": "code",
      "source": [
        "arr2d = np.array([[1, 2, 3], [4, 5, 6], [7, 8, 9]])\n",
        "arr2d[[0, 2]] # Rows 0 and 2"
      ],
      "metadata": {
        "colab": {
          "base_uri": "https://localhost:8080/"
        },
        "id": "5IPT16B4onD8",
        "outputId": "7f26146a-3c4c-4693-d827-dd599b457588"
      },
      "execution_count": 19,
      "outputs": [
        {
          "output_type": "execute_result",
          "data": {
            "text/plain": [
              "array([[1, 2, 3],\n",
              "       [7, 8, 9]])"
            ]
          },
          "metadata": {},
          "execution_count": 19
        }
      ]
    },
    {
      "cell_type": "code",
      "source": [
        "arr2d[:, [0, 2]]"
      ],
      "metadata": {
        "colab": {
          "base_uri": "https://localhost:8080/"
        },
        "id": "AgAoyksRpC7W",
        "outputId": "1cbcc316-f556-4f7a-df32-7c3c5469f769"
      },
      "execution_count": 20,
      "outputs": [
        {
          "output_type": "execute_result",
          "data": {
            "text/plain": [
              "array([[1, 3],\n",
              "       [4, 6],\n",
              "       [7, 9]])"
            ]
          },
          "metadata": {},
          "execution_count": 20
        }
      ]
    },
    {
      "cell_type": "markdown",
      "source": [
        "#Practice Exercises 2"
      ],
      "metadata": {
        "id": "2FF31SJ7p2lN"
      }
    },
    {
      "cell_type": "markdown",
      "source": [
        "- Extract the diagonal of a 4x4 matrix\n",
        "\n",
        "- Create a checkerboard pattern using slicing\n",
        "\n",
        "- Replace all odd numbers in an array with -1"
      ],
      "metadata": {
        "id": "81Jh5Qc5qGyw"
      }
    },
    {
      "cell_type": "code",
      "source": [
        "arr = np.random.uniform(1, 10, size=(4, 4))\n",
        "\n",
        "diagonal = []\n",
        "\n",
        "for i in range(4):\n",
        "    diagonal.append(arr[i][i])\n",
        "\n",
        "print(\"Original 4x4 matrix:\")\n",
        "print(arr)\n",
        "print(\"\\nMatrix with only diagonal elements:\")\n",
        "print(diagonal)"
      ],
      "metadata": {
        "colab": {
          "base_uri": "https://localhost:8080/"
        },
        "id": "EhZCr_eHpUzG",
        "outputId": "434d5e72-d665-4566-b279-abcac2b7e5aa"
      },
      "execution_count": 21,
      "outputs": [
        {
          "output_type": "stream",
          "name": "stdout",
          "text": [
            "Original 4x4 matrix:\n",
            "[[9.33992979 7.54544796 3.93886692 6.13399577]\n",
            " [5.68750834 9.65054822 8.60080464 7.72588099]\n",
            " [5.85722919 6.28076049 9.68729777 6.46330823]\n",
            " [3.48399264 3.66646155 2.48740245 1.14072766]]\n",
            "\n",
            "Matrix with only diagonal elements:\n",
            "[np.float64(9.339929792144147), np.float64(9.650548219144142), np.float64(9.687297765377242), np.float64(1.1407276606707453)]\n"
          ]
        }
      ]
    },
    {
      "cell_type": "code",
      "source": [
        "# With diagonal functions\n",
        "np.diag(arr)"
      ],
      "metadata": {
        "colab": {
          "base_uri": "https://localhost:8080/"
        },
        "id": "90Dg0cugrPeG",
        "outputId": "587dfec3-1907-498f-ce9e-0604cd5e90d4"
      },
      "execution_count": 22,
      "outputs": [
        {
          "output_type": "execute_result",
          "data": {
            "text/plain": [
              "array([9.33992979, 9.65054822, 9.68729777, 1.14072766])"
            ]
          },
          "metadata": {},
          "execution_count": 22
        }
      ]
    },
    {
      "cell_type": "code",
      "source": [
        "checkerboard = np.zeros((8, 8), dtype=int)\n",
        "checkerboard[1::2, ::2] = 1\n",
        "checkerboard[::2, 1::2] = 1\n",
        "\n",
        "print(\"Checkerboard pattern:\")\n",
        "print(checkerboard)"
      ],
      "metadata": {
        "colab": {
          "base_uri": "https://localhost:8080/"
        },
        "id": "bIc-sbL8rmse",
        "outputId": "5fce1006-7440-4602-f103-fce118e1fc42"
      },
      "execution_count": 23,
      "outputs": [
        {
          "output_type": "stream",
          "name": "stdout",
          "text": [
            "Checkerboard pattern:\n",
            "[[0 1 0 1 0 1 0 1]\n",
            " [1 0 1 0 1 0 1 0]\n",
            " [0 1 0 1 0 1 0 1]\n",
            " [1 0 1 0 1 0 1 0]\n",
            " [0 1 0 1 0 1 0 1]\n",
            " [1 0 1 0 1 0 1 0]\n",
            " [0 1 0 1 0 1 0 1]\n",
            " [1 0 1 0 1 0 1 0]]\n"
          ]
        }
      ]
    },
    {
      "cell_type": "code",
      "source": [
        "arr = np.arange(25)\n",
        "arr[arr % 2 == 1] = -1\n",
        "\n",
        "print(\"Modified array (odd numbers replaced with -1):\")\n",
        "print(arr)"
      ],
      "metadata": {
        "colab": {
          "base_uri": "https://localhost:8080/"
        },
        "id": "w_YwmZfIsOoc",
        "outputId": "2c951179-e586-46e6-9581-7d6bc03a98bc"
      },
      "execution_count": 24,
      "outputs": [
        {
          "output_type": "stream",
          "name": "stdout",
          "text": [
            "Modified array (odd numbers replaced with -1):\n",
            "[ 0 -1  2 -1  4 -1  6 -1  8 -1 10 -1 12 -1 14 -1 16 -1 18 -1 20 -1 22 -1\n",
            " 24]\n"
          ]
        }
      ]
    },
    {
      "cell_type": "markdown",
      "source": [
        "#Reshaping Arrays"
      ],
      "metadata": {
        "id": "y0kIpKvNtuwB"
      }
    },
    {
      "cell_type": "code",
      "source": [
        "arr = np.arange(12)\n",
        "print(f\"Arr: {arr}\")\n",
        "\n",
        "# Reshape to 3x4\n",
        "arr = arr.reshape(3, 4)\n",
        "print(f\"Reshaped array:\")\n",
        "print(arr)\n",
        "print(f\"Dim: {arr.shape}\")"
      ],
      "metadata": {
        "colab": {
          "base_uri": "https://localhost:8080/"
        },
        "id": "1vNAATzZslB5",
        "outputId": "c66f1909-94bc-49c8-b807-b89b10a0b468"
      },
      "execution_count": 25,
      "outputs": [
        {
          "output_type": "stream",
          "name": "stdout",
          "text": [
            "Arr: [ 0  1  2  3  4  5  6  7  8  9 10 11]\n",
            "Reshaped array:\n",
            "[[ 0  1  2  3]\n",
            " [ 4  5  6  7]\n",
            " [ 8  9 10 11]]\n",
            "Dim: (3, 4)\n"
          ]
        }
      ]
    },
    {
      "cell_type": "code",
      "source": [
        "# Flatten\n",
        "arr_flatten = arr.reshape(-1) # or arr.flatten()\n",
        "print(arr_flatten)\n",
        "print(f\"Dim: {arr_flatten.shape}\")"
      ],
      "metadata": {
        "colab": {
          "base_uri": "https://localhost:8080/"
        },
        "id": "ehQYVqhLt-Zn",
        "outputId": "eee811c2-07fd-4f11-afbd-37c8ab33e269"
      },
      "execution_count": 26,
      "outputs": [
        {
          "output_type": "stream",
          "name": "stdout",
          "text": [
            "[ 0  1  2  3  4  5  6  7  8  9 10 11]\n",
            "Dim: (12,)\n"
          ]
        }
      ]
    },
    {
      "cell_type": "code",
      "source": [
        "column_vector = arr[:, np.newaxis] # Convert to column vector\n",
        "print(column_vector)\n",
        "print(f\"Dim: {column_vector.shape}\")"
      ],
      "metadata": {
        "colab": {
          "base_uri": "https://localhost:8080/"
        },
        "id": "p0ckTKRyuCaP",
        "outputId": "237c0819-2ca3-4bdd-da50-fadc85c1055f"
      },
      "execution_count": 27,
      "outputs": [
        {
          "output_type": "stream",
          "name": "stdout",
          "text": [
            "[[[ 0  1  2  3]]\n",
            "\n",
            " [[ 4  5  6  7]]\n",
            "\n",
            " [[ 8  9 10 11]]]\n",
            "Dim: (3, 1, 4)\n"
          ]
        }
      ]
    },
    {
      "cell_type": "markdown",
      "source": [
        "#Stacking Arrays"
      ],
      "metadata": {
        "id": "LmaiQMPLviz3"
      }
    },
    {
      "cell_type": "code",
      "source": [
        "a = np.array([1, 2, 3])\n",
        "b = np.array([4, 5, 6])\n",
        "\n",
        "# Vertical stack\n",
        "np.vstack((a, b))"
      ],
      "metadata": {
        "colab": {
          "base_uri": "https://localhost:8080/"
        },
        "id": "VvQ8Q3s2vLub",
        "outputId": "2398d004-d35f-41aa-f97b-b99be923bf61"
      },
      "execution_count": 28,
      "outputs": [
        {
          "output_type": "execute_result",
          "data": {
            "text/plain": [
              "array([[1, 2, 3],\n",
              "       [4, 5, 6]])"
            ]
          },
          "metadata": {},
          "execution_count": 28
        }
      ]
    },
    {
      "cell_type": "code",
      "source": [
        "# Horizontal stack\n",
        "np.hstack((a, b))"
      ],
      "metadata": {
        "colab": {
          "base_uri": "https://localhost:8080/"
        },
        "id": "IMDLASrHvt-o",
        "outputId": "1ae69002-0ce7-4e18-bce5-7749ba1d2d5b"
      },
      "execution_count": 29,
      "outputs": [
        {
          "output_type": "execute_result",
          "data": {
            "text/plain": [
              "array([1, 2, 3, 4, 5, 6])"
            ]
          },
          "metadata": {},
          "execution_count": 29
        }
      ]
    },
    {
      "cell_type": "code",
      "source": [
        "np.column_stack((a, b))"
      ],
      "metadata": {
        "colab": {
          "base_uri": "https://localhost:8080/"
        },
        "id": "gaaK6Eo9vzzM",
        "outputId": "79b0bfed-a53f-4a38-c994-f880d2788b13"
      },
      "execution_count": 30,
      "outputs": [
        {
          "output_type": "execute_result",
          "data": {
            "text/plain": [
              "array([[1, 4],\n",
              "       [2, 5],\n",
              "       [3, 6]])"
            ]
          },
          "metadata": {},
          "execution_count": 30
        }
      ]
    },
    {
      "cell_type": "markdown",
      "source": [
        "#Splitting Arrays"
      ],
      "metadata": {
        "id": "UWfdZ3K_v983"
      }
    },
    {
      "cell_type": "code",
      "source": [
        "arr = np.arange(12).reshape(3, 4)\n",
        "print(f\"Arr:\")\n",
        "print(arr)\n",
        "\n",
        "# Split vertically\n",
        "np.vsplit(arr, 3) # 3 sub-arrays"
      ],
      "metadata": {
        "colab": {
          "base_uri": "https://localhost:8080/"
        },
        "id": "GS8-zbmgv2Zk",
        "outputId": "07d1ed95-557f-403d-ae5e-9c2fa0c9f157"
      },
      "execution_count": 31,
      "outputs": [
        {
          "output_type": "stream",
          "name": "stdout",
          "text": [
            "Arr:\n",
            "[[ 0  1  2  3]\n",
            " [ 4  5  6  7]\n",
            " [ 8  9 10 11]]\n"
          ]
        },
        {
          "output_type": "execute_result",
          "data": {
            "text/plain": [
              "[array([[0, 1, 2, 3]]), array([[4, 5, 6, 7]]), array([[ 8,  9, 10, 11]])]"
            ]
          },
          "metadata": {},
          "execution_count": 31
        }
      ]
    },
    {
      "cell_type": "code",
      "source": [
        "# Split horizontally\n",
        "np.hsplit(arr, 2)  # 2 sub-arrays"
      ],
      "metadata": {
        "colab": {
          "base_uri": "https://localhost:8080/"
        },
        "id": "upbYIIEKwJAK",
        "outputId": "e9796ddd-99d8-4c9c-fbd0-080aa9c3e26f"
      },
      "execution_count": 32,
      "outputs": [
        {
          "output_type": "execute_result",
          "data": {
            "text/plain": [
              "[array([[0, 1],\n",
              "        [4, 5],\n",
              "        [8, 9]]),\n",
              " array([[ 2,  3],\n",
              "        [ 6,  7],\n",
              "        [10, 11]])]"
            ]
          },
          "metadata": {},
          "execution_count": 32
        }
      ]
    },
    {
      "cell_type": "code",
      "source": [
        "# Uneven splitting\n",
        "np.array_split(arr, 2, axis=0)  # Split rows into 2 parts"
      ],
      "metadata": {
        "colab": {
          "base_uri": "https://localhost:8080/"
        },
        "id": "rwj0ht4ewX8W",
        "outputId": "aa1784b9-2678-40e9-d266-1404ad237db8"
      },
      "execution_count": 33,
      "outputs": [
        {
          "output_type": "execute_result",
          "data": {
            "text/plain": [
              "[array([[0, 1, 2, 3],\n",
              "        [4, 5, 6, 7]]),\n",
              " array([[ 8,  9, 10, 11]])]"
            ]
          },
          "metadata": {},
          "execution_count": 33
        }
      ]
    },
    {
      "cell_type": "markdown",
      "source": [
        "#Practice Exercises 3"
      ],
      "metadata": {
        "id": "c4C4Xpf0wd4b"
      }
    },
    {
      "cell_type": "markdown",
      "source": [
        "- Convert a 1D array of 24 elements into a 3D array (2x3x4)\n",
        "\n",
        "- Stack two arrays vertically and horizontally\n",
        "\n",
        "- Split an array into 4 equal parts"
      ],
      "metadata": {
        "id": "KWv1KTfBwjDC"
      }
    },
    {
      "cell_type": "code",
      "source": [
        "arr1D = np.arange(24)\n",
        "print(f\"1D array:\\n{arr1D}\")\n",
        "\n",
        "arr1D.resize(2, 3, 4)  # modifies arr1D itself\n",
        "print(\"\\nReshaped to 3D array:\")\n",
        "print(arr1D)"
      ],
      "metadata": {
        "colab": {
          "base_uri": "https://localhost:8080/"
        },
        "id": "SSgynI1fwZ4T",
        "outputId": "ab3de5dc-4061-4cff-961f-edf303d54785"
      },
      "execution_count": 34,
      "outputs": [
        {
          "output_type": "stream",
          "name": "stdout",
          "text": [
            "1D array:\n",
            "[ 0  1  2  3  4  5  6  7  8  9 10 11 12 13 14 15 16 17 18 19 20 21 22 23]\n",
            "\n",
            "Reshaped to 3D array:\n",
            "[[[ 0  1  2  3]\n",
            "  [ 4  5  6  7]\n",
            "  [ 8  9 10 11]]\n",
            "\n",
            " [[12 13 14 15]\n",
            "  [16 17 18 19]\n",
            "  [20 21 22 23]]]\n"
          ]
        }
      ]
    },
    {
      "cell_type": "code",
      "source": [
        "a = np.random.rand(5)\n",
        "b = np.random.rand(5)\n",
        "\n",
        "print(f\"Vertically: \")\n",
        "print(np.vstack((a, b)))\n",
        "print(80 * '-')\n",
        "\n",
        "print(f\"Horizontally: \")\n",
        "print(np.hstack((a, b)))"
      ],
      "metadata": {
        "colab": {
          "base_uri": "https://localhost:8080/"
        },
        "id": "bg2ns582wuza",
        "outputId": "0238b122-15f7-43f1-af02-357d94def4b7"
      },
      "execution_count": 35,
      "outputs": [
        {
          "output_type": "stream",
          "name": "stdout",
          "text": [
            "Vertically: \n",
            "[[0.42340148 0.39488152 0.29348817 0.01407982 0.1988424 ]\n",
            " [0.71134195 0.79017554 0.60595997 0.92630088 0.65107703]]\n",
            "--------------------------------------------------------------------------------\n",
            "Horizontally: \n",
            "[0.42340148 0.39488152 0.29348817 0.01407982 0.1988424  0.71134195\n",
            " 0.79017554 0.60595997 0.92630088 0.65107703]\n"
          ]
        }
      ]
    },
    {
      "cell_type": "code",
      "source": [
        "arr = np.arange(20)  # Total 20 elements\n",
        "print(\"Original array:\")\n",
        "print(arr)\n",
        "\n",
        "# Split into 4 equal parts\n",
        "parts = np.split(arr, 4)\n",
        "\n",
        "print(\"\\nArray split into 4 parts:\")\n",
        "for i, part in enumerate(parts, 1):\n",
        "    print(f\"Part {i}: {part}\")"
      ],
      "metadata": {
        "colab": {
          "base_uri": "https://localhost:8080/"
        },
        "id": "GJiRLpVOxjFV",
        "outputId": "7d939040-9067-4a3f-ae11-8d0e85eb5632"
      },
      "execution_count": 36,
      "outputs": [
        {
          "output_type": "stream",
          "name": "stdout",
          "text": [
            "Original array:\n",
            "[ 0  1  2  3  4  5  6  7  8  9 10 11 12 13 14 15 16 17 18 19]\n",
            "\n",
            "Array split into 4 parts:\n",
            "Part 1: [0 1 2 3 4]\n",
            "Part 2: [5 6 7 8 9]\n",
            "Part 3: [10 11 12 13 14]\n",
            "Part 4: [15 16 17 18 19]\n"
          ]
        }
      ]
    },
    {
      "cell_type": "markdown",
      "source": [
        "#Math operations"
      ],
      "metadata": {
        "id": "jARBUGPWFEzB"
      }
    },
    {
      "cell_type": "code",
      "source": [
        "arr = np.array([1, 4, 9, 16, 25])\n",
        "\n",
        "# Math operations\n",
        "np.sqrt(arr)  # Square root"
      ],
      "metadata": {
        "id": "er5bIHDGyfiu",
        "colab": {
          "base_uri": "https://localhost:8080/"
        },
        "outputId": "a173cb75-27d0-426f-ef3c-81217d8e1e6c"
      },
      "execution_count": 37,
      "outputs": [
        {
          "output_type": "execute_result",
          "data": {
            "text/plain": [
              "array([1., 2., 3., 4., 5.])"
            ]
          },
          "metadata": {},
          "execution_count": 37
        }
      ]
    },
    {
      "cell_type": "code",
      "source": [
        "np.exp(arr)   # Exponential"
      ],
      "metadata": {
        "colab": {
          "base_uri": "https://localhost:8080/"
        },
        "id": "XoIZk9x-Fg3n",
        "outputId": "561819b7-8b5d-49bc-cf54-a327cd3be03c"
      },
      "execution_count": 38,
      "outputs": [
        {
          "output_type": "execute_result",
          "data": {
            "text/plain": [
              "array([2.71828183e+00, 5.45981500e+01, 8.10308393e+03, 8.88611052e+06,\n",
              "       7.20048993e+10])"
            ]
          },
          "metadata": {},
          "execution_count": 38
        }
      ]
    },
    {
      "cell_type": "code",
      "source": [
        "np.log(arr)   # Natural log"
      ],
      "metadata": {
        "colab": {
          "base_uri": "https://localhost:8080/"
        },
        "id": "cbVwy4TcFl6B",
        "outputId": "584e37aa-9295-4b39-9d30-9204059012ba"
      },
      "execution_count": 39,
      "outputs": [
        {
          "output_type": "execute_result",
          "data": {
            "text/plain": [
              "array([0.        , 1.38629436, 2.19722458, 2.77258872, 3.21887582])"
            ]
          },
          "metadata": {},
          "execution_count": 39
        }
      ]
    },
    {
      "cell_type": "code",
      "source": [
        "np.sin(arr)   # Trigonometric functions"
      ],
      "metadata": {
        "colab": {
          "base_uri": "https://localhost:8080/"
        },
        "id": "5Xv5mnMQFm3p",
        "outputId": "9a3bb168-8a2b-4942-8a4e-c548c9d52fdb"
      },
      "execution_count": 40,
      "outputs": [
        {
          "output_type": "execute_result",
          "data": {
            "text/plain": [
              "array([ 0.84147098, -0.7568025 ,  0.41211849, -0.28790332, -0.13235175])"
            ]
          },
          "metadata": {},
          "execution_count": 40
        }
      ]
    },
    {
      "cell_type": "markdown",
      "source": [
        "#Linear Algebra Functions for Machine Learning"
      ],
      "metadata": {
        "id": "txcD0ruiF38e"
      }
    },
    {
      "cell_type": "markdown",
      "source": [
        "Matrix Transpose"
      ],
      "metadata": {
        "id": "DtVYzLmLHZuv"
      }
    },
    {
      "cell_type": "code",
      "source": [
        "A = np.array([[1, 2, 3], [4, 5, 6], [7, 8, 9]])\n",
        "print(\"A: \")\n",
        "print(A)\n",
        "print(\"A transpose: \")\n",
        "A.T"
      ],
      "metadata": {
        "colab": {
          "base_uri": "https://localhost:8080/"
        },
        "id": "MtSuJyjRHbrK",
        "outputId": "34c790f5-bb92-468a-9623-578c72c41cec"
      },
      "execution_count": 41,
      "outputs": [
        {
          "output_type": "stream",
          "name": "stdout",
          "text": [
            "A: \n",
            "[[1 2 3]\n",
            " [4 5 6]\n",
            " [7 8 9]]\n",
            "A transpose: \n"
          ]
        },
        {
          "output_type": "execute_result",
          "data": {
            "text/plain": [
              "array([[1, 4, 7],\n",
              "       [2, 5, 8],\n",
              "       [3, 6, 9]])"
            ]
          },
          "metadata": {},
          "execution_count": 41
        }
      ]
    },
    {
      "cell_type": "markdown",
      "source": [
        "Matrix Multiplication"
      ],
      "metadata": {
        "id": "RsoBZJ4OF8V6"
      }
    },
    {
      "cell_type": "code",
      "source": [
        "A = np.array([[1, 2], [3, 4]])  # 2x2\n",
        "B = np.array([[5, 6], [7, 8]])  # 2x2\n",
        "\n",
        "C = A @ B           # Matrix Multiplication Operator\n",
        "C"
      ],
      "metadata": {
        "colab": {
          "base_uri": "https://localhost:8080/"
        },
        "id": "C31dSP68FoeT",
        "outputId": "d96ed5ba-e9fb-4ff5-bdfc-26b0efa3f6a2"
      },
      "execution_count": 42,
      "outputs": [
        {
          "output_type": "execute_result",
          "data": {
            "text/plain": [
              "array([[19, 22],\n",
              "       [43, 50]])"
            ]
          },
          "metadata": {},
          "execution_count": 42
        }
      ]
    },
    {
      "cell_type": "code",
      "source": [
        "np.dot(A, B)        # Dot Product / Matrix Multiplication"
      ],
      "metadata": {
        "colab": {
          "base_uri": "https://localhost:8080/"
        },
        "id": "L64U0hJfGAGO",
        "outputId": "662c0624-8ad9-4e47-8e45-57b182bf1cbf"
      },
      "execution_count": 43,
      "outputs": [
        {
          "output_type": "execute_result",
          "data": {
            "text/plain": [
              "array([[19, 22],\n",
              "       [43, 50]])"
            ]
          },
          "metadata": {},
          "execution_count": 43
        }
      ]
    },
    {
      "cell_type": "code",
      "source": [
        "np.matmul(A, B)     # Strict Matrix Multiplication"
      ],
      "metadata": {
        "colab": {
          "base_uri": "https://localhost:8080/"
        },
        "id": "klw3mw4cGdzA",
        "outputId": "83f19ca5-88e6-48b5-f9b9-2f85ad5aca78"
      },
      "execution_count": 44,
      "outputs": [
        {
          "output_type": "execute_result",
          "data": {
            "text/plain": [
              "array([[19, 22],\n",
              "       [43, 50]])"
            ]
          },
          "metadata": {},
          "execution_count": 44
        }
      ]
    },
    {
      "cell_type": "markdown",
      "source": [
        "Solving Linear Systems"
      ],
      "metadata": {
        "id": "YiSKVzyuGrsj"
      }
    },
    {
      "cell_type": "code",
      "source": [
        "# System: 3x + y = 9; x + 2y = 8\n",
        "A = np.array([[3, 1], [1, 2]])\n",
        "b = np.array([9, 8])\n",
        "\n",
        "x = np.linalg.solve(A, b)  # Solution: x=2, y=3"
      ],
      "metadata": {
        "id": "x7F7jN2dGiT_"
      },
      "execution_count": 45,
      "outputs": []
    },
    {
      "cell_type": "markdown",
      "source": [
        "Eigen Decomposition"
      ],
      "metadata": {
        "id": "uWu53ktbGzbJ"
      }
    },
    {
      "cell_type": "code",
      "source": [
        "cov_matrix = np.array([[2, -1], [-1, 2]])  # Covariance matrix\n",
        "\n",
        "eigenvalues, eigenvectors = np.linalg.eig(cov_matrix)\n",
        "eigenvalues, eigenvectors"
      ],
      "metadata": {
        "colab": {
          "base_uri": "https://localhost:8080/"
        },
        "id": "gCKCc--MGzoh",
        "outputId": "baa9c1d4-003b-4fd9-fb69-48a81d510a47"
      },
      "execution_count": 46,
      "outputs": [
        {
          "output_type": "execute_result",
          "data": {
            "text/plain": [
              "(array([3., 1.]),\n",
              " array([[ 0.70710678,  0.70710678],\n",
              "        [-0.70710678,  0.70710678]]))"
            ]
          },
          "metadata": {},
          "execution_count": 46
        }
      ]
    },
    {
      "cell_type": "markdown",
      "source": [
        "Matrix Norms"
      ],
      "metadata": {
        "id": "KVhmcho2G7aH"
      }
    },
    {
      "cell_type": "code",
      "source": [
        "v = np.array([3, 4])\n",
        "\n",
        "l2_norm = np.linalg.norm(v)       # L2 norm (Euclidean)\n",
        "l1_norm = np.linalg.norm(v, ord=1) # L1 norm (Manhattan)\n",
        "l2_norm, l1_norm"
      ],
      "metadata": {
        "colab": {
          "base_uri": "https://localhost:8080/"
        },
        "id": "R2rzujNVG1c-",
        "outputId": "d423b483-1262-497a-ce86-f3d51d222f05"
      },
      "execution_count": 47,
      "outputs": [
        {
          "output_type": "execute_result",
          "data": {
            "text/plain": [
              "(np.float64(5.0), np.float64(7.0))"
            ]
          },
          "metadata": {},
          "execution_count": 47
        }
      ]
    },
    {
      "cell_type": "markdown",
      "source": [
        "Matrix Inverse"
      ],
      "metadata": {
        "id": "_6lM34S_HHVf"
      }
    },
    {
      "cell_type": "code",
      "source": [
        "A = np.array([[4, 7], [2, 6]])\n",
        "A_inv = np.linalg.inv(A)\n",
        "A_inv"
      ],
      "metadata": {
        "colab": {
          "base_uri": "https://localhost:8080/"
        },
        "id": "VOTLWAM-G9tL",
        "outputId": "cad79cd0-7528-468d-86d0-cac9c94f988a"
      },
      "execution_count": 48,
      "outputs": [
        {
          "output_type": "execute_result",
          "data": {
            "text/plain": [
              "array([[ 0.6, -0.7],\n",
              "       [-0.2,  0.4]])"
            ]
          },
          "metadata": {},
          "execution_count": 48
        }
      ]
    },
    {
      "cell_type": "markdown",
      "source": [
        "Trace and Determinant"
      ],
      "metadata": {
        "id": "_A7XhN10HON2"
      }
    },
    {
      "cell_type": "code",
      "source": [
        "M = np.array([[1, 2], [3, 4]])\n",
        "\n",
        "tr = np.trace(M)    # Sum of diagonal\n",
        "print(f\"Sum of dioganal: {tr}\")\n",
        "\n",
        "det = np.linalg.det(M)  # Determinant\n",
        "print(f\"Determinant: {det}\")"
      ],
      "metadata": {
        "id": "caKQBewJHKkE",
        "colab": {
          "base_uri": "https://localhost:8080/"
        },
        "outputId": "24189f12-65f7-4db2-e039-6b336415b14b"
      },
      "execution_count": 50,
      "outputs": [
        {
          "output_type": "stream",
          "name": "stdout",
          "text": [
            "Sum of dioganal: 5\n",
            "Determinant: -2.0000000000000004\n"
          ]
        }
      ]
    },
    {
      "cell_type": "code",
      "source": [],
      "metadata": {
        "id": "k2LjBuTCyj5H"
      },
      "execution_count": null,
      "outputs": []
    }
  ]
}
