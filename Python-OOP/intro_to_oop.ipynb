{
  "nbformat": 4,
  "nbformat_minor": 0,
  "metadata": {
    "colab": {
      "provenance": [],
      "authorship_tag": "ABX9TyN5vgCVaxrZyEhVEi+tJTvS",
      "include_colab_link": true
    },
    "kernelspec": {
      "name": "python3",
      "display_name": "Python 3"
    },
    "language_info": {
      "name": "python"
    }
  },
  "cells": [
    {
      "cell_type": "markdown",
      "metadata": {
        "id": "view-in-github",
        "colab_type": "text"
      },
      "source": [
        "<a href=\"https://colab.research.google.com/github/Shamil2007/Python-Tutorials/blob/main/intro_to_oop.ipynb\" target=\"_parent\"><img src=\"https://colab.research.google.com/assets/colab-badge.svg\" alt=\"Open In Colab\"/></a>"
      ]
    },
    {
      "cell_type": "markdown",
      "source": [
        "Be careful with header numbers !"
      ],
      "metadata": {
        "id": "qN3qWW8QhVQ3"
      }
    },
    {
      "cell_type": "markdown",
      "source": [
        "# 1. Introduction to OOP"
      ],
      "metadata": {
        "id": "gJzzk66uN8Qn"
      }
    },
    {
      "cell_type": "markdown",
      "source": [
        "What is Object-Oriented Programming?\n",
        "Object-Oriented Programming (OOP) is a programming paradigm that organizes code around objects rather than functions and logic. It's based on the concept of \"objects,\" which contain data (attributes) and code (methods). OOP helps create more modular, reusable, and maintainable code.\n",
        "\n",
        "Core Principles of OOP:\n",
        "\n",
        "- Encapsulation: Bundling data and methods that work on that data within one unit\n",
        "- Inheritance: Creating new classes based on existing classes\n",
        "- Polymorphism: Using a single interface to represent different underlying forms\n",
        "- Abstraction: Hiding complex implementation details and showing only essential features\n",
        "\n",
        "Why Use OOP?\n",
        "\n",
        "- Code Reusability: Write once, use multiple times\n",
        "- Modularity: Break complex problems into smaller, manageable pieces\n",
        "- Maintainability: Easier to update and modify code\n",
        "- Real-world Modeling: Objects mirror real-world entities"
      ],
      "metadata": {
        "id": "iwLgQkIfN78U"
      }
    },
    {
      "cell_type": "markdown",
      "source": [
        "#2. Classes and Instances"
      ],
      "metadata": {
        "id": "KZxA8W-9OqA5"
      }
    },
    {
      "cell_type": "markdown",
      "source": [
        "Understanding Classes\n",
        "- A class is a blueprint or template for creating objects. It defines what attributes (data) and methods (functions) an object will have."
      ],
      "metadata": {
        "id": "zYdeDs4qOt0b"
      }
    },
    {
      "cell_type": "code",
      "source": [
        "class Car:\n",
        "    # Class definition\n",
        "    pass"
      ],
      "metadata": {
        "id": "wgN0jFFCN6rq"
      },
      "execution_count": 1,
      "outputs": []
    },
    {
      "cell_type": "markdown",
      "source": [
        "Understanding Instances\n",
        "- An instance is a specific object created from a class. Each instance has its own set of attributes and can perform the methods defined in the class."
      ],
      "metadata": {
        "id": "FG_lj58jO1ZD"
      }
    },
    {
      "cell_type": "code",
      "execution_count": 2,
      "metadata": {
        "id": "pBZLh2zLNvP9"
      },
      "outputs": [],
      "source": [
        "# Creating instances\n",
        "my_car = Car()  # my_car is an instance of Car class\n",
        "your_car = Car()  # your_car is another instance of Car class"
      ]
    },
    {
      "cell_type": "markdown",
      "source": [
        "Basic Class Structure"
      ],
      "metadata": {
        "id": "n_Xlf3WOO6V4"
      }
    },
    {
      "cell_type": "code",
      "source": [
        "class Person:\n",
        "    def __init__(self, name, age):\n",
        "        self.name = name  # Instance attribute\n",
        "        self.age = age    # Instance attribute\n",
        "\n",
        "    def introduce(self):  # Instance method\n",
        "        return f\"Hi, I'm {self.name} and I'm {self.age} years old\"\n",
        "\n",
        "# Creating instances\n",
        "person1 = Person(\"Alice\", 30)\n",
        "person2 = Person(\"Bob\", 25)\n",
        "\n",
        "print(person1.introduce())  # Hi, I'm Alice and I'm 30 years old\n",
        "print(person2.introduce())  # Hi, I'm Bob and I'm 25 years old"
      ],
      "metadata": {
        "colab": {
          "base_uri": "https://localhost:8080/"
        },
        "id": "gmnc_I1_O4Gh",
        "outputId": "1625ce54-3ce8-4762-a051-25a3079a309a"
      },
      "execution_count": 3,
      "outputs": [
        {
          "output_type": "stream",
          "name": "stdout",
          "text": [
            "Hi, I'm Alice and I'm 30 years old\n",
            "Hi, I'm Bob and I'm 25 years old\n"
          ]
        }
      ]
    },
    {
      "cell_type": "markdown",
      "source": [
        "#3. Init Method"
      ],
      "metadata": {
        "id": "kKjVJD0tZDki"
      }
    },
    {
      "cell_type": "markdown",
      "source": [
        "What is init?\n",
        "- The __init__ method is a special method (constructor) that's automatically called when a new instance of a class is created. It's used to initialize the object's attributes."
      ],
      "metadata": {
        "id": "6SrjwB4CZHz9"
      }
    },
    {
      "cell_type": "code",
      "source": [
        "class Book:\n",
        "    def __init__(self, title, author, pages):\n",
        "        self.title = title        # Initialize instance attributes\n",
        "        self.author = author\n",
        "        self.pages = pages\n",
        "        self.is_read = False      # Default value\n",
        "\n",
        "book1 = Book(\"1984\", \"George Orwell\", 328)"
      ],
      "metadata": {
        "id": "Q0eRcc_ZZLVj"
      },
      "execution_count": 37,
      "outputs": []
    },
    {
      "cell_type": "code",
      "source": [
        "book1.title"
      ],
      "metadata": {
        "colab": {
          "base_uri": "https://localhost:8080/",
          "height": 35
        },
        "id": "EHKyy0-Ohliu",
        "outputId": "7c0e0538-5f64-4ed6-e8f0-570f6ed37bf7"
      },
      "execution_count": 52,
      "outputs": [
        {
          "output_type": "execute_result",
          "data": {
            "text/plain": [
              "'1984'"
            ],
            "application/vnd.google.colaboratory.intrinsic+json": {
              "type": "string"
            }
          },
          "metadata": {},
          "execution_count": 52
        }
      ]
    },
    {
      "cell_type": "markdown",
      "source": [
        "init with Default Parameters:"
      ],
      "metadata": {
        "id": "jb-wflPSZN3I"
      }
    },
    {
      "cell_type": "code",
      "source": [
        "class Rectangle:\n",
        "    def __init__(self, width=1, height=1):\n",
        "        self.width = width\n",
        "        self.height = height\n",
        "\n",
        "    def area(self):\n",
        "        return self.width * self.height\n",
        "\n",
        "rect1 = Rectangle()           # Uses default values: 1x1\n",
        "rect2 = Rectangle(5)          # 5x1 rectangle\n",
        "rect3 = Rectangle(4, 6)       # 4x6 rectangle\n",
        "\n",
        "rect3.area()"
      ],
      "metadata": {
        "colab": {
          "base_uri": "https://localhost:8080/"
        },
        "id": "FtEg2ShWZQ1y",
        "outputId": "feb9a1b6-c635-4e00-fefb-9c5f4164ad48"
      },
      "execution_count": 55,
      "outputs": [
        {
          "output_type": "execute_result",
          "data": {
            "text/plain": [
              "24"
            ]
          },
          "metadata": {},
          "execution_count": 55
        }
      ]
    },
    {
      "cell_type": "markdown",
      "source": [
        "init with Validation"
      ],
      "metadata": {
        "id": "sLgMgt0pZXVs"
      }
    },
    {
      "cell_type": "code",
      "source": [
        "from datetime import datetime\n",
        "\n",
        "class Person:\n",
        "    def __init__(self, name, age):\n",
        "        if not isinstance(name, str) or len(name.strip()) == 0:\n",
        "            raise ValueError(\"Name must be a non-empty string\") # You will get an error\n",
        "        if not isinstance(age, int) or age < 0:\n",
        "            raise ValueError(\"Age must be a non-negative integer\")\n",
        "\n",
        "        self.name = name.strip()\n",
        "        self.age = age\n",
        "        self.created_at = datetime.now()"
      ],
      "metadata": {
        "id": "T_BiheuRZaNW"
      },
      "execution_count": 61,
      "outputs": []
    },
    {
      "cell_type": "code",
      "source": [
        "p1 = Person(\"Shamil\", 21)\n",
        "print(p1.name)\n",
        "print(p1.age)\n",
        "print(p1.created_at)"
      ],
      "metadata": {
        "colab": {
          "base_uri": "https://localhost:8080/"
        },
        "id": "3ui5-zKNiDkw",
        "outputId": "8a543f48-5f03-4e49-e139-d8e9e12bbd86"
      },
      "execution_count": 62,
      "outputs": [
        {
          "output_type": "stream",
          "name": "stdout",
          "text": [
            "Shamil\n",
            "21\n",
            "2025-06-07 08:37:31.137369\n"
          ]
        }
      ]
    },
    {
      "cell_type": "code",
      "source": [
        "p2 = Person(\"\", 22)"
      ],
      "metadata": {
        "colab": {
          "base_uri": "https://localhost:8080/",
          "height": 263
        },
        "id": "vWD54ZcfifU1",
        "outputId": "870f1213-a0e4-4d6d-cef6-7cf08c6eca83"
      },
      "execution_count": 63,
      "outputs": [
        {
          "output_type": "error",
          "ename": "ValueError",
          "evalue": "Name must be a non-empty string",
          "traceback": [
            "\u001b[0;31m---------------------------------------------------------------------------\u001b[0m",
            "\u001b[0;31mValueError\u001b[0m                                Traceback (most recent call last)",
            "\u001b[0;32m<ipython-input-63-f06618044c37>\u001b[0m in \u001b[0;36m<cell line: 0>\u001b[0;34m()\u001b[0m\n\u001b[0;32m----> 1\u001b[0;31m \u001b[0mp2\u001b[0m \u001b[0;34m=\u001b[0m \u001b[0mPerson\u001b[0m\u001b[0;34m(\u001b[0m\u001b[0;34m\"\"\u001b[0m\u001b[0;34m,\u001b[0m \u001b[0;36m22\u001b[0m\u001b[0;34m)\u001b[0m\u001b[0;34m\u001b[0m\u001b[0;34m\u001b[0m\u001b[0m\n\u001b[0m",
            "\u001b[0;32m<ipython-input-61-5f4f905e687f>\u001b[0m in \u001b[0;36m__init__\u001b[0;34m(self, name, age)\u001b[0m\n\u001b[1;32m      4\u001b[0m     \u001b[0;32mdef\u001b[0m \u001b[0m__init__\u001b[0m\u001b[0;34m(\u001b[0m\u001b[0mself\u001b[0m\u001b[0;34m,\u001b[0m \u001b[0mname\u001b[0m\u001b[0;34m,\u001b[0m \u001b[0mage\u001b[0m\u001b[0;34m)\u001b[0m\u001b[0;34m:\u001b[0m\u001b[0;34m\u001b[0m\u001b[0;34m\u001b[0m\u001b[0m\n\u001b[1;32m      5\u001b[0m         \u001b[0;32mif\u001b[0m \u001b[0;32mnot\u001b[0m \u001b[0misinstance\u001b[0m\u001b[0;34m(\u001b[0m\u001b[0mname\u001b[0m\u001b[0;34m,\u001b[0m \u001b[0mstr\u001b[0m\u001b[0;34m)\u001b[0m \u001b[0;32mor\u001b[0m \u001b[0mlen\u001b[0m\u001b[0;34m(\u001b[0m\u001b[0mname\u001b[0m\u001b[0;34m.\u001b[0m\u001b[0mstrip\u001b[0m\u001b[0;34m(\u001b[0m\u001b[0;34m)\u001b[0m\u001b[0;34m)\u001b[0m \u001b[0;34m==\u001b[0m \u001b[0;36m0\u001b[0m\u001b[0;34m:\u001b[0m\u001b[0;34m\u001b[0m\u001b[0;34m\u001b[0m\u001b[0m\n\u001b[0;32m----> 6\u001b[0;31m             \u001b[0;32mraise\u001b[0m \u001b[0mValueError\u001b[0m\u001b[0;34m(\u001b[0m\u001b[0;34m\"Name must be a non-empty string\"\u001b[0m\u001b[0;34m)\u001b[0m\u001b[0;34m\u001b[0m\u001b[0;34m\u001b[0m\u001b[0m\n\u001b[0m\u001b[1;32m      7\u001b[0m         \u001b[0;32mif\u001b[0m \u001b[0;32mnot\u001b[0m \u001b[0misinstance\u001b[0m\u001b[0;34m(\u001b[0m\u001b[0mage\u001b[0m\u001b[0;34m,\u001b[0m \u001b[0mint\u001b[0m\u001b[0;34m)\u001b[0m \u001b[0;32mor\u001b[0m \u001b[0mage\u001b[0m \u001b[0;34m<\u001b[0m \u001b[0;36m0\u001b[0m\u001b[0;34m:\u001b[0m\u001b[0;34m\u001b[0m\u001b[0;34m\u001b[0m\u001b[0m\n\u001b[1;32m      8\u001b[0m             \u001b[0;32mraise\u001b[0m \u001b[0mValueError\u001b[0m\u001b[0;34m(\u001b[0m\u001b[0;34m\"Age must be a non-negative integer\"\u001b[0m\u001b[0;34m)\u001b[0m\u001b[0;34m\u001b[0m\u001b[0;34m\u001b[0m\u001b[0m\n",
            "\u001b[0;31mValueError\u001b[0m: Name must be a non-empty string"
          ]
        }
      ]
    },
    {
      "cell_type": "code",
      "source": [
        "p3 = Person(\"Shamil\", -5)"
      ],
      "metadata": {
        "colab": {
          "base_uri": "https://localhost:8080/",
          "height": 263
        },
        "id": "cjgx-U3SihzZ",
        "outputId": "378ee48e-2d77-4c43-c42b-90a36845213c"
      },
      "execution_count": 64,
      "outputs": [
        {
          "output_type": "error",
          "ename": "ValueError",
          "evalue": "Age must be a non-negative integer",
          "traceback": [
            "\u001b[0;31m---------------------------------------------------------------------------\u001b[0m",
            "\u001b[0;31mValueError\u001b[0m                                Traceback (most recent call last)",
            "\u001b[0;32m<ipython-input-64-a72a7cbc89ab>\u001b[0m in \u001b[0;36m<cell line: 0>\u001b[0;34m()\u001b[0m\n\u001b[0;32m----> 1\u001b[0;31m \u001b[0mp3\u001b[0m \u001b[0;34m=\u001b[0m \u001b[0mPerson\u001b[0m\u001b[0;34m(\u001b[0m\u001b[0;34m\"Shamil\"\u001b[0m\u001b[0;34m,\u001b[0m \u001b[0;34m-\u001b[0m\u001b[0;36m5\u001b[0m\u001b[0;34m)\u001b[0m\u001b[0;34m\u001b[0m\u001b[0;34m\u001b[0m\u001b[0m\n\u001b[0m",
            "\u001b[0;32m<ipython-input-61-5f4f905e687f>\u001b[0m in \u001b[0;36m__init__\u001b[0;34m(self, name, age)\u001b[0m\n\u001b[1;32m      6\u001b[0m             \u001b[0;32mraise\u001b[0m \u001b[0mValueError\u001b[0m\u001b[0;34m(\u001b[0m\u001b[0;34m\"Name must be a non-empty string\"\u001b[0m\u001b[0;34m)\u001b[0m\u001b[0;34m\u001b[0m\u001b[0;34m\u001b[0m\u001b[0m\n\u001b[1;32m      7\u001b[0m         \u001b[0;32mif\u001b[0m \u001b[0;32mnot\u001b[0m \u001b[0misinstance\u001b[0m\u001b[0;34m(\u001b[0m\u001b[0mage\u001b[0m\u001b[0;34m,\u001b[0m \u001b[0mint\u001b[0m\u001b[0;34m)\u001b[0m \u001b[0;32mor\u001b[0m \u001b[0mage\u001b[0m \u001b[0;34m<\u001b[0m \u001b[0;36m0\u001b[0m\u001b[0;34m:\u001b[0m\u001b[0;34m\u001b[0m\u001b[0;34m\u001b[0m\u001b[0m\n\u001b[0;32m----> 8\u001b[0;31m             \u001b[0;32mraise\u001b[0m \u001b[0mValueError\u001b[0m\u001b[0;34m(\u001b[0m\u001b[0;34m\"Age must be a non-negative integer\"\u001b[0m\u001b[0;34m)\u001b[0m\u001b[0;34m\u001b[0m\u001b[0;34m\u001b[0m\u001b[0m\n\u001b[0m\u001b[1;32m      9\u001b[0m \u001b[0;34m\u001b[0m\u001b[0m\n\u001b[1;32m     10\u001b[0m         \u001b[0mself\u001b[0m\u001b[0;34m.\u001b[0m\u001b[0mname\u001b[0m \u001b[0;34m=\u001b[0m \u001b[0mname\u001b[0m\u001b[0;34m.\u001b[0m\u001b[0mstrip\u001b[0m\u001b[0;34m(\u001b[0m\u001b[0;34m)\u001b[0m\u001b[0;34m\u001b[0m\u001b[0;34m\u001b[0m\u001b[0m\n",
            "\u001b[0;31mValueError\u001b[0m: Age must be a non-negative integer"
          ]
        }
      ]
    },
    {
      "cell_type": "markdown",
      "source": [
        "Complex Initialization"
      ],
      "metadata": {
        "id": "mFFyEa2NaBnN"
      }
    },
    {
      "cell_type": "code",
      "source": [
        "class Database:\n",
        "    def __init__(self, host, port=5432, username=None, password=None):\n",
        "        self.host = host\n",
        "        self.port = port\n",
        "        self.username = username\n",
        "        self.password = password\n",
        "        self._connection = None\n",
        "        self._initialize_connection()\n",
        "\n",
        "    def _initialize_connection(self):\n",
        "        # Complex initialization logic\n",
        "        print(f\"Connecting to {self.host}:{self.port}\")\n",
        "        # Connection logic here\n",
        "        self._connection = f\"Connected to {self.host}\""
      ],
      "metadata": {
        "id": "PnCSYE3raGpV"
      },
      "execution_count": 42,
      "outputs": []
    },
    {
      "cell_type": "markdown",
      "source": [
        "#4. Instance and Class Attributes"
      ],
      "metadata": {
        "id": "pF9I1oXtREGg"
      }
    },
    {
      "cell_type": "markdown",
      "source": [
        "Instance Attributes\n",
        "- Instance attributes are unique to each instance of a class. They are defined within methods (usually __init__) and are accessed using self."
      ],
      "metadata": {
        "id": "dAaEcWm0RJIo"
      }
    },
    {
      "cell_type": "code",
      "source": [
        "class Student:\n",
        "    def __init__(self, name, grade):\n",
        "        self.name = name      # Instance attribute\n",
        "        self.grade = grade    # Instance attribute"
      ],
      "metadata": {
        "id": "rw3gWCuxO9Ke"
      },
      "execution_count": 4,
      "outputs": []
    },
    {
      "cell_type": "markdown",
      "source": [
        "Class Attributes\n",
        "- Class attributes are shared by all instances of a class. They are defined directly in the class body, outside of any methods."
      ],
      "metadata": {
        "id": "-87JBDaBRUHa"
      }
    },
    {
      "cell_type": "code",
      "source": [
        "class Student:\n",
        "    school_name = \"Python High School\"  # Class attribute\n",
        "    total_students = 0                  # Class attribute\n",
        "\n",
        "    def __init__(self, name, grade):\n",
        "        self.name = name                # Instance attribute\n",
        "        self.grade = grade              # Instance attribute\n",
        "        Student.total_students += 1     # Modifying class attribute"
      ],
      "metadata": {
        "id": "ZNHgn8DVRQrb"
      },
      "execution_count": 5,
      "outputs": []
    },
    {
      "cell_type": "markdown",
      "source": [
        "Example:"
      ],
      "metadata": {
        "id": "XITLRdlVRmJ1"
      }
    },
    {
      "cell_type": "code",
      "source": [
        "class BankAccount:\n",
        "    bank_name = \"Python Bank\"        # Class attribute\n",
        "    interest_rate = 0.05            # Class attribute\n",
        "\n",
        "    def __init__(self, owner, balance):\n",
        "        self.owner = owner          # Instance attribute\n",
        "        self.balance = balance      # Instance attribute\n",
        "\n",
        "account1 = BankAccount(\"Alice\", 1000)\n",
        "account2 = BankAccount(\"Bob\", 2000)\n",
        "\n",
        "print(account1.bank_name)     # Python Bank (accessing class attribute)\n",
        "print(account2.bank_name)     # Python Bank (same for all instances)\n",
        "print(account1.balance)       # 1000 (unique to this instance)\n",
        "print(account2.balance)       # 2000 (unique to this instance)"
      ],
      "metadata": {
        "colab": {
          "base_uri": "https://localhost:8080/"
        },
        "id": "f6x0BE_DRW0f",
        "outputId": "d6843fb9-3227-4070-cf9d-564ffa9ddefd"
      },
      "execution_count": 6,
      "outputs": [
        {
          "output_type": "stream",
          "name": "stdout",
          "text": [
            "Python Bank\n",
            "Python Bank\n",
            "1000\n",
            "2000\n"
          ]
        }
      ]
    },
    {
      "cell_type": "markdown",
      "source": [
        "#5. Methods and Self"
      ],
      "metadata": {
        "id": "n0b-YembXsEE"
      }
    },
    {
      "cell_type": "markdown",
      "source": [
        "Understanding 'self'\n",
        "- self is a reference to the current instance of the class. It's used to access instance attributes and methods from within the class."
      ],
      "metadata": {
        "id": "f6bvlJbGXv9T"
      }
    },
    {
      "cell_type": "markdown",
      "source": [
        "Types of Methods:\n",
        "1. Instance Methods\n",
        "    - Most common type of method. They operate on instance data and can access both instance and class attributes."
      ],
      "metadata": {
        "id": "iXGTx9IHX2Vl"
      }
    },
    {
      "cell_type": "code",
      "source": [
        "class Calculator:\n",
        "    def __init__(self, value=0):\n",
        "        self.value = value\n",
        "\n",
        "    def add(self, number):           # Instance method\n",
        "        self.value += number\n",
        "        return self\n",
        "\n",
        "    def multiply(self, number):      # Instance method\n",
        "        self.value *= number\n",
        "        return self\n",
        "\n",
        "    def get_result(self):           # Instance method\n",
        "        return self.value"
      ],
      "metadata": {
        "id": "0FwQ-MwKXfzY"
      },
      "execution_count": 34,
      "outputs": []
    },
    {
      "cell_type": "code",
      "source": [
        "calc = Calculator()\n",
        "result = calc.add(5).multiply(3).get_result()\n",
        "result"
      ],
      "metadata": {
        "colab": {
          "base_uri": "https://localhost:8080/"
        },
        "id": "XlRKdaGfkLZ6",
        "outputId": "1f13e275-80c1-41f9-c515-bce20a021d28"
      },
      "execution_count": 76,
      "outputs": [
        {
          "output_type": "execute_result",
          "data": {
            "text/plain": [
              "15"
            ]
          },
          "metadata": {},
          "execution_count": 76
        }
      ]
    },
    {
      "cell_type": "markdown",
      "source": [
        "2. Class Methods\n",
        "    - Methods that work with class attributes rather than instance attributes. They use @classmethod decorator and take cls as the first parameter."
      ],
      "metadata": {
        "id": "rJJygDEZYK1n"
      }
    },
    {
      "cell_type": "markdown",
      "source": [
        "The @classmethod decorator in Python is used to define a method that is bound to the class rather than an instance of the class. This means the method receives the class (cls) as its first argument instead of the instance (self). Class methods can access or modify class-level data shared among all instances and are commonly used for tasks like creating alternative constructors or keeping track of class-wide state, such as counting how many objects have been created.\n",
        "\n",
        "A @classmethod is a special method in Python that works with the class itself, not just one object. Instead of using self, it uses cls, which means it can see and change things that belong to the whole class (like shared data). We use it when we want a function that works on the class as a whole — for example, to count how many objects were created or to make a special way of creating objects (like create_anonymous() in your Person class)."
      ],
      "metadata": {
        "id": "rFxk_ARTk7wP"
      }
    },
    {
      "cell_type": "code",
      "source": [
        "class Person:\n",
        "    population = 0               # Class attribute\n",
        "\n",
        "    def __init__(self, name):\n",
        "        self.name = name\n",
        "        Person.population += 1\n",
        "\n",
        "    @classmethod\n",
        "    def get_population(cls):     # Class method\n",
        "        return cls.population\n",
        "\n",
        "    @classmethod\n",
        "    def create_anonymous(cls):   # Alternative constructor\n",
        "        return cls(\"Anonymous\")"
      ],
      "metadata": {
        "id": "pMR3YL_uX_iF"
      },
      "execution_count": 78,
      "outputs": []
    },
    {
      "cell_type": "code",
      "source": [
        "p1 = Person(\"Shamil\")\n",
        "p2 = Person(\"Aylin\")\n",
        "p3 = Person.create_anonymous()\n",
        "\n",
        "print(p1.name)            # Shamil\n",
        "print(p3.name)            # Anonymous\n",
        "print(Person.get_population())  # 3"
      ],
      "metadata": {
        "colab": {
          "base_uri": "https://localhost:8080/"
        },
        "id": "ddo0M60tkf90",
        "outputId": "b5d8f21f-84b4-4814-a1c8-0ddb2e6d37b8"
      },
      "execution_count": 79,
      "outputs": [
        {
          "output_type": "stream",
          "name": "stdout",
          "text": [
            "Shamil\n",
            "Anonymous\n",
            "3\n"
          ]
        }
      ]
    },
    {
      "cell_type": "markdown",
      "source": [
        "3. Static Methods\n",
        "    - Methods that don't need access to self or cls. They're like regular functions but belong to the class namespace."
      ],
      "metadata": {
        "id": "S0p4tcuzYnmh"
      }
    },
    {
      "cell_type": "markdown",
      "source": [
        "What is @staticmethod?\n",
        "- It tells Python this method doesn’t need self or cls.\n",
        "\n",
        "- These functions are not connected to any object or class data.\n",
        "\n",
        "- They behave just like regular functions, but are grouped inside a class for organization."
      ],
      "metadata": {
        "id": "8VgaNSlyl70_"
      }
    },
    {
      "cell_type": "code",
      "source": [
        "class MathUtils:\n",
        "    @staticmethod\n",
        "    def add(x, y):              # Static method\n",
        "        return x + y\n",
        "\n",
        "    @staticmethod\n",
        "    def is_prime(n):            # Static method\n",
        "        if n < 2:\n",
        "            return False\n",
        "        for i in range(2, int(n**0.5) + 1):\n",
        "            if n % i == 0:\n",
        "                return False\n",
        "        return True"
      ],
      "metadata": {
        "id": "WUIJo1AXYTjG"
      },
      "execution_count": 36,
      "outputs": []
    },
    {
      "cell_type": "markdown",
      "source": [
        "#6. String Representation"
      ],
      "metadata": {
        "id": "8d92frTocSdf"
      }
    },
    {
      "cell_type": "markdown",
      "source": [
        "Understanding str and repr\n",
        "- These are special methods that define how objects are converted to strings.\n",
        "    1. __str__: Human-readable string representation (for end users)\n",
        "    2. __repr__: Developer-friendly string representation (for debugging)"
      ],
      "metadata": {
        "id": "MItwZ1ONcYIF"
      }
    },
    {
      "cell_type": "markdown",
      "source": [
        "Why use __str__?\n",
        "- When you print your object or convert it to a string, __str__ decides what the user sees.\n",
        "\n",
        "- Without it, Python prints something ugly like <Person object at 0x10a2f3>.\n",
        "\n",
        "- __str__ makes your objects easy to read and understand when printed or shown to users."
      ],
      "metadata": {
        "id": "0l8rdj-moGeE"
      }
    },
    {
      "cell_type": "markdown",
      "source": [
        "Why use __repr__?\n",
        "- Used mostly by developers to debug or inspect objects.\n",
        "\n",
        "- Should show enough detail so you (or another programmer) can recreate the object just by copying the output.\n",
        "\n",
        "- Helps during debugging or in the interactive Python shell when you type your object’s name."
      ],
      "metadata": {
        "id": "r5E4ZE0XoL0_"
      }
    },
    {
      "cell_type": "code",
      "source": [
        "class Person:\n",
        "    def __init__(self, name, age):\n",
        "        self.name = name\n",
        "        self.age = age\n",
        "\n",
        "    def __str__(self):           # Called by str() and print()\n",
        "        return f\"{self.name} ({self.age} years old)\"\n",
        "\n",
        "    def __repr__(self):          # Called by repr() and in interactive shell\n",
        "        return f\"Person('{self.name}', {self.age})\"\n",
        "\n",
        "person = Person(\"Alice\", 30)\n",
        "print(str(person))    # Alice (30 years old)\n",
        "print(repr(person))   # Person('Alice', 30)\n",
        "print(person)         # Alice (30 years old) (uses __str__)"
      ],
      "metadata": {
        "colab": {
          "base_uri": "https://localhost:8080/"
        },
        "id": "taZV-7lyYsJM",
        "outputId": "369047a3-f5b8-427a-87a8-6485f2ff6f45"
      },
      "execution_count": 43,
      "outputs": [
        {
          "output_type": "stream",
          "name": "stdout",
          "text": [
            "Alice (30 years old)\n",
            "Person('Alice', 30)\n",
            "Alice (30 years old)\n"
          ]
        }
      ]
    },
    {
      "cell_type": "markdown",
      "source": [
        "When to use each"
      ],
      "metadata": {
        "id": "cFfIc3GMcq2V"
      }
    },
    {
      "cell_type": "code",
      "source": [
        "class Point:\n",
        "    def __init__(self, x, y):\n",
        "        self.x = x\n",
        "        self.y = y\n",
        "\n",
        "    def __str__(self):\n",
        "        return f\"Point at ({self.x}, {self.y})\"      # User-friendly\n",
        "\n",
        "    def __repr__(self):\n",
        "        return f\"Point({self.x}, {self.y})\"          # Code-like representation"
      ],
      "metadata": {
        "id": "zAFI2VBgckyW"
      },
      "execution_count": 44,
      "outputs": []
    },
    {
      "cell_type": "markdown",
      "source": [
        "#7. Access Control"
      ],
      "metadata": {
        "id": "4hJsQ654dZnC"
      }
    },
    {
      "cell_type": "markdown",
      "source": [
        "Understanding Access Control in Python\n",
        "- Python doesn't have true private attributes like other languages, but it uses naming conventions to indicate intended access levels."
      ],
      "metadata": {
        "id": "pZqxfW9yddxh"
      }
    },
    {
      "cell_type": "code",
      "source": [
        "class PublicExample:\n",
        "    def __init__(self):\n",
        "        self.public_attr = \"I'm public\"      # Anyone can access\n",
        "\n",
        "    def public_method(self):                 # Anyone can call\n",
        "        return \"This is a public method\""
      ],
      "metadata": {
        "id": "wtwPnmrcct_q"
      },
      "execution_count": 45,
      "outputs": []
    },
    {
      "cell_type": "code",
      "source": [
        "obj = PublicExample()\n",
        "print(obj.public_attr)\n",
        "print(obj.public_method())"
      ],
      "metadata": {
        "colab": {
          "base_uri": "https://localhost:8080/"
        },
        "id": "gpjNtEjwpGgM",
        "outputId": "9b036941-aa63-430d-f6d4-a4f2b6524015"
      },
      "execution_count": 80,
      "outputs": [
        {
          "output_type": "stream",
          "name": "stdout",
          "text": [
            "I'm public\n",
            "This is a public method\n"
          ]
        }
      ]
    },
    {
      "cell_type": "markdown",
      "source": [
        "Protected Attributes and Methods:\n",
        "- Indicated by a single underscore _. This is a convention suggesting the attribute/method is for internal use."
      ],
      "metadata": {
        "id": "OGYHzrbwdhjg"
      }
    },
    {
      "cell_type": "code",
      "source": [
        "class ProtectedExample:\n",
        "    def __init__(self):\n",
        "        self._protected_attr = \"I'm protected\"    # Convention: internal use\n",
        "\n",
        "    def _protected_method(self):                  # Convention: internal use\n",
        "        return \"This is a protected method\"\n",
        "\n",
        "    def public_method(self):\n",
        "        return self._protected_method()           # OK to use internally"
      ],
      "metadata": {
        "id": "snzaTt7pdgqC"
      },
      "execution_count": 46,
      "outputs": []
    },
    {
      "cell_type": "code",
      "source": [
        "obj = ProtectedExample()\n",
        "print(obj._protected_attr)\n",
        "print(obj._protected_method())\n",
        "print(obj.public_method())"
      ],
      "metadata": {
        "colab": {
          "base_uri": "https://localhost:8080/"
        },
        "id": "JLh9ByI7pLgf",
        "outputId": "04a3f210-8a07-4536-ef8d-143d4d32b2ef"
      },
      "execution_count": 81,
      "outputs": [
        {
          "output_type": "stream",
          "name": "stdout",
          "text": [
            "I'm protected\n",
            "This is a protected method\n",
            "This is a protected method\n"
          ]
        }
      ]
    },
    {
      "cell_type": "markdown",
      "source": [
        "- _protected_attr and _protected_method() are accessible, but by convention, you should treat them as “internal” and avoid using them directly outside the class.\n",
        "\n",
        "- public_method() calls the protected method internally."
      ],
      "metadata": {
        "id": "ZJ5WkTgCpgDc"
      }
    },
    {
      "cell_type": "markdown",
      "source": [
        "Private Attributes and Methods:\n",
        "- Indicated by double underscore __. Python performs name mangling on these."
      ],
      "metadata": {
        "id": "S5JVSD-_drFm"
      }
    },
    {
      "cell_type": "code",
      "source": [
        "class PrivateExample:\n",
        "    def __init__(self):\n",
        "        self.__private_attr = \"I'm private\"      # Name mangling occurs\n",
        "\n",
        "    def __private_method(self):                  # Name mangling occurs\n",
        "        return \"This is a private method\"\n",
        "\n",
        "    def access_private(self):\n",
        "        return self.__private_method()           # OK to access from within class\n",
        "\n",
        "obj = PrivateExample()\n",
        "\n",
        "# print(obj.__private_attr)  # This will raise AttributeError!\n",
        "\n",
        "print(obj.access_private())\n",
        "\n",
        "# Accessing private attribute using name mangling (not recommended):\n",
        "print(obj._PrivateExample__private_attr)"
      ],
      "metadata": {
        "colab": {
          "base_uri": "https://localhost:8080/"
        },
        "id": "HcBCUdDtdnae",
        "outputId": "5c1a798b-5a18-43b8-b549-41094032eb09"
      },
      "execution_count": 83,
      "outputs": [
        {
          "output_type": "stream",
          "name": "stdout",
          "text": [
            "This is a private method\n",
            "I'm private\n"
          ]
        }
      ]
    },
    {
      "cell_type": "markdown",
      "source": [
        "Practical Example"
      ],
      "metadata": {
        "id": "cKhFcdvkqGbj"
      }
    },
    {
      "cell_type": "code",
      "source": [
        "class BankAccount:\n",
        "    def __init__(self, account_holder, initial_balance):\n",
        "        self.account_holder = account_holder      # Public\n",
        "        self._account_number = self._generate_account_number()  # Protected\n",
        "        self.__balance = initial_balance          # Private\n",
        "        self.__transaction_history = []           # Private\n",
        "\n",
        "    def deposit(self, amount):\n",
        "        if self.__validate_amount(amount):\n",
        "            self.__balance += amount\n",
        "            self.__record_transaction(\"deposit\", amount)\n",
        "            return True\n",
        "        return False\n",
        "\n",
        "    def withdraw(self, amount):\n",
        "        if self.__validate_amount(amount) and amount <= self.__balance:\n",
        "            self.__balance -= amount\n",
        "            self.__record_transaction(\"withdrawal\", amount)\n",
        "            return True\n",
        "        return False\n",
        "\n",
        "    def get_balance(self):                        # Public interface\n",
        "        return self.__balance\n",
        "\n",
        "    def _generate_account_number(self):           # Protected helper method\n",
        "        import random\n",
        "        return str(random.randint(100000, 999999))\n",
        "\n",
        "    def __validate_amount(self, amount):          # Private helper method\n",
        "        return isinstance(amount, (int, float)) and amount > 0\n",
        "\n",
        "    def __record_transaction(self, type, amount): # Private helper method\n",
        "        self.__transaction_history.append({\n",
        "            'type': type,\n",
        "            'amount': amount,\n",
        "            'timestamp': datetime.now()\n",
        "        })"
      ],
      "metadata": {
        "id": "g0yQrAxsd2wS"
      },
      "execution_count": 51,
      "outputs": []
    },
    {
      "cell_type": "markdown",
      "source": [
        "#8. Encapsulation"
      ],
      "metadata": {
        "id": "wMK_J_GWi8ne"
      }
    },
    {
      "cell_type": "markdown",
      "source": [
        "What is Encapsulation?\n",
        "- Encapsulation is the practice of bundling data (attributes) and methods that operate on that data within a single unit (class), and restricting direct access to some of the object's components.\n",
        "Access Modifiers in Python:\n",
        "\n",
        "- Public: Accessible from anywhere (default)\n",
        "- Protected: Indicated by single underscore _ (convention only)\n",
        "- Private: Indicated by double underscore __ (name mangling)"
      ],
      "metadata": {
        "id": "RbC_olgRRzFK"
      }
    },
    {
      "cell_type": "markdown",
      "source": [
        "Example of encapsulation"
      ],
      "metadata": {
        "id": "3USKElbIjHRD"
      }
    },
    {
      "cell_type": "code",
      "source": [
        "class BankAccount:\n",
        "    \"\"\"\n",
        "    A class to represent a bank account with encapsulation of balance and account operations.\n",
        "    Demonstrates the use of public, protected, and private attributes and methods.\n",
        "    \"\"\"\n",
        "\n",
        "    def __init__(self, owner, initial_balance, account_number=\"12345\"):\n",
        "        \"\"\"\n",
        "        Initializes a new bank account.\n",
        "\n",
        "        :param owner: The name of the account owner (public).\n",
        "        :param initial_balance: The initial amount to deposit (private).\n",
        "        \"\"\"\n",
        "        self.owner = owner                    # Public attribute\n",
        "        self._account_number = account_number        # Protected attribute (convention)\n",
        "        self.__balance = initial_balance      # Private attribute (name mangled)\n",
        "\n",
        "    def deposit(self, amount):\n",
        "        \"\"\"\n",
        "        Public method to deposit money into the account.\n",
        "\n",
        "        :param amount: Amount to deposit (must be positive).\n",
        "        :return: True if deposit successful, False otherwise.\n",
        "        \"\"\"\n",
        "        if self.__validate_transaction(amount):\n",
        "            self.__balance += amount\n",
        "            return True\n",
        "        return False\n",
        "\n",
        "    def withdraw(self, amount):\n",
        "        \"\"\"\n",
        "        Public method to withdraw money from the account.\n",
        "\n",
        "        :param amount: Amount to withdraw (must be positive and less than or equal to balance).\n",
        "        :return: True if withdrawal successful, False otherwise.\n",
        "        \"\"\"\n",
        "        if self.__validate_transaction(amount) and amount <= self.__balance:\n",
        "            self.__balance -= amount\n",
        "            return True\n",
        "        return False\n",
        "\n",
        "    def get_balance(self):\n",
        "        \"\"\"\n",
        "        Public method to get the current account balance.\n",
        "\n",
        "        :return: Current balance (float).\n",
        "        \"\"\"\n",
        "        return self.__balance\n",
        "\n",
        "    def _calculate_interest(self):\n",
        "        \"\"\"\n",
        "        Protected method to calculate 5% interest on the balance.\n",
        "        Intended for internal or subclass use only.\n",
        "\n",
        "        :return: Interest amount (float).\n",
        "        \"\"\"\n",
        "        return self.__balance * 0.05\n",
        "\n",
        "    def __validate_transaction(self, amount):\n",
        "        \"\"\"\n",
        "        Private method to validate transaction amounts.\n",
        "\n",
        "        :param amount: Amount to validate.\n",
        "        :return: True if amount is positive, False otherwise.\n",
        "        \"\"\"\n",
        "        return amount > 0"
      ],
      "metadata": {
        "id": "Mq8yZyvYRoyN"
      },
      "execution_count": 66,
      "outputs": []
    },
    {
      "cell_type": "code",
      "source": [
        "acc = BankAccount(owner=\"samo\", initial_balance=458, account_number=\"245\")"
      ],
      "metadata": {
        "id": "NJdwmFQyjMV5"
      },
      "execution_count": 67,
      "outputs": []
    },
    {
      "cell_type": "code",
      "source": [
        "acc.get_balance()"
      ],
      "metadata": {
        "colab": {
          "base_uri": "https://localhost:8080/"
        },
        "id": "by7R-KvQjMm1",
        "outputId": "94bd73ac-ee06-4956-ca1b-eb46e125df30"
      },
      "execution_count": 68,
      "outputs": [
        {
          "output_type": "execute_result",
          "data": {
            "text/plain": [
              "458"
            ]
          },
          "metadata": {},
          "execution_count": 68
        }
      ]
    },
    {
      "cell_type": "code",
      "source": [
        "acc.deposit(122)\n",
        "acc.get_balance()"
      ],
      "metadata": {
        "colab": {
          "base_uri": "https://localhost:8080/"
        },
        "id": "gR1TqVtcjVd9",
        "outputId": "b10397cf-001f-44ec-e4bf-3a1289dd408b"
      },
      "execution_count": 69,
      "outputs": [
        {
          "output_type": "execute_result",
          "data": {
            "text/plain": [
              "580"
            ]
          },
          "metadata": {},
          "execution_count": 69
        }
      ]
    },
    {
      "cell_type": "code",
      "source": [
        "acc.withdraw(590)"
      ],
      "metadata": {
        "colab": {
          "base_uri": "https://localhost:8080/"
        },
        "id": "zPtpCoRMjato",
        "outputId": "7235c973-c7ee-4137-bf86-02524908c5a3"
      },
      "execution_count": 70,
      "outputs": [
        {
          "output_type": "execute_result",
          "data": {
            "text/plain": [
              "False"
            ]
          },
          "metadata": {},
          "execution_count": 70
        }
      ]
    },
    {
      "cell_type": "code",
      "source": [
        "acc.withdraw(550)"
      ],
      "metadata": {
        "colab": {
          "base_uri": "https://localhost:8080/"
        },
        "id": "Z2xnBLuzjeZG",
        "outputId": "c9ed2d31-b2fe-4a7c-d01f-f6768959d2e8"
      },
      "execution_count": 71,
      "outputs": [
        {
          "output_type": "execute_result",
          "data": {
            "text/plain": [
              "True"
            ]
          },
          "metadata": {},
          "execution_count": 71
        }
      ]
    },
    {
      "cell_type": "code",
      "source": [
        "acc.get_balance()"
      ],
      "metadata": {
        "colab": {
          "base_uri": "https://localhost:8080/"
        },
        "id": "nqZm8GFFjfOA",
        "outputId": "d4802d4c-a0fe-4043-8ba4-80735d6f45ec"
      },
      "execution_count": 72,
      "outputs": [
        {
          "output_type": "execute_result",
          "data": {
            "text/plain": [
              "30"
            ]
          },
          "metadata": {},
          "execution_count": 72
        }
      ]
    },
    {
      "cell_type": "markdown",
      "source": [
        "Benefits of Encapsulation:\n",
        "\n",
        "- Data Protection: Prevents direct modification of sensitive data\n",
        "- Controlled Access: Methods can validate data before making changes\n",
        "- Code Maintainability: Internal implementation can change without affecting external code\n",
        "- Debugging: Easier to track where data is being modified|"
      ],
      "metadata": {
        "id": "AXjrjrodjofY"
      }
    },
    {
      "cell_type": "markdown",
      "source": [
        "#9. Getters and Setters"
      ],
      "metadata": {
        "id": "1HxIdSrOjwAz"
      }
    },
    {
      "cell_type": "markdown",
      "source": [
        "What are Getters and Setters?\n",
        "- Getters and setters are methods used to access and modify private attributes safely. They provide controlled access to object data."
      ],
      "metadata": {
        "id": "7lGxlmRKjygr"
      }
    },
    {
      "cell_type": "code",
      "source": [
        "class Temperature:\n",
        "    def __init__(self):\n",
        "        self.__celsius = 0\n",
        "\n",
        "    def get_celsius(self):        # Getter\n",
        "        return self.__celsius\n",
        "\n",
        "    def set_celsius(self, value): # Setter\n",
        "        if value >= -273.15:      # Validation\n",
        "            self.__celsius = value\n",
        "        else:\n",
        "            raise ValueError(\"Temperature cannot be below absolute zero\")\n",
        "\n",
        "    def get_fahrenheit(self):     # Getter for computed property\n",
        "        return (self.__celsius * 9/5) + 32"
      ],
      "metadata": {
        "id": "OOkKl_K3jzQf"
      },
      "execution_count": 74,
      "outputs": []
    },
    {
      "cell_type": "markdown",
      "source": [
        "Why use getters and setters?\n",
        "- They protect the internal data (__celsius).\n",
        "\n",
        "- The setter validates the input (no temperature below absolute zero).\n",
        "\n",
        "- This prevents incorrect or invalid data from being assigned."
      ],
      "metadata": {
        "id": "YsZXnH3qqu_1"
      }
    }
  ]
}
