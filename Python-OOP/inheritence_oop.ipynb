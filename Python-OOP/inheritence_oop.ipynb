{
  "nbformat": 4,
  "nbformat_minor": 0,
  "metadata": {
    "colab": {
      "provenance": [],
      "authorship_tag": "ABX9TyODH83RDp+R66OYco7ViMTz",
      "include_colab_link": true
    },
    "kernelspec": {
      "name": "python3",
      "display_name": "Python 3"
    },
    "language_info": {
      "name": "python"
    }
  },
  "cells": [
    {
      "cell_type": "markdown",
      "metadata": {
        "id": "view-in-github",
        "colab_type": "text"
      },
      "source": [
        "<a href=\"https://colab.research.google.com/github/Shamil2007/Python-Tutorials/blob/main/Python-OOP/inheritence_oop.ipynb\" target=\"_parent\"><img src=\"https://colab.research.google.com/assets/colab-badge.svg\" alt=\"Open In Colab\"/></a>"
      ]
    },
    {
      "cell_type": "markdown",
      "source": [
        "#Inheritance – “Reuse and Extend Code”\n"
      ],
      "metadata": {
        "id": "8QIshKbFN8z_"
      }
    },
    {
      "cell_type": "markdown",
      "source": [
        "The Simple Idea\n",
        "- Inheritance is like how children get traits from their parents. In programming, a \"child class\" gets properties and abilities from a \"parent class.\""
      ],
      "metadata": {
        "id": "Evfvcp7wQCIj"
      }
    },
    {
      "cell_type": "code",
      "source": [
        "# Parent class (like a parent in a family)\n",
        "class Animal:\n",
        "    def __init__(self, name):\n",
        "        self.name = name\n",
        "\n",
        "    def eat(self):\n",
        "        return f\"{self.name} is eating\"\n",
        "\n",
        "    def sleep(self):\n",
        "        return f\"{self.name} is sleeping\"\n",
        "\n",
        "# Child class (inherits from Animal)\n",
        "class Dog(Animal):  # Dog IS AN Animal\n",
        "    def bark(self):  # Dogs can do something extra - bark!\n",
        "        return f\"{self.name} says Woof!\"\n",
        "\n",
        "# Another child class\n",
        "class Cat(Animal):  # Cat IS AN Animal\n",
        "    def meow(self):  # Cats can do something extra - meow!\n",
        "        return f\"{self.name} says Meow!\"\n",
        "\n",
        "# Let's use them\n",
        "my_dog = Dog(\"Buddy\")\n",
        "my_cat = Cat(\"Whiskers\")\n",
        "\n",
        "# Both can do animal things (inherited)\n",
        "print(my_dog.eat())    # Buddy is eating\n",
        "print(my_cat.sleep())  # Whiskers is sleeping\n",
        "\n",
        "# Each can do their special things\n",
        "print(my_dog.bark())   # Buddy says Woof!\n",
        "print(my_cat.meow())   # Whiskers says Meow!"
      ],
      "metadata": {
        "colab": {
          "base_uri": "https://localhost:8080/"
        },
        "id": "Z5k4SqyqOgmU",
        "outputId": "f8ccaea0-df34-490b-c7ae-4b59285429b2"
      },
      "execution_count": 1,
      "outputs": [
        {
          "output_type": "stream",
          "name": "stdout",
          "text": [
            "Buddy is eating\n",
            "Whiskers is sleeping\n",
            "Buddy says Woof!\n",
            "Whiskers says Meow!\n"
          ]
        }
      ]
    },
    {
      "cell_type": "markdown",
      "source": [
        "#What does super() mean?\n"
      ],
      "metadata": {
        "id": "tKen05VyTDFa"
      }
    },
    {
      "cell_type": "markdown",
      "source": [
        "- super() is like calling your parent. When a child class wants to use something from the parent class, it uses super()."
      ],
      "metadata": {
        "id": "66yhowRzQ1nb"
      }
    },
    {
      "cell_type": "code",
      "source": [
        "class Animal:\n",
        "    def __init__(self, name, species):\n",
        "        self.name = name\n",
        "        self.species = species\n",
        "        print(f\"Creating an animal named {name}\")\n",
        "\n",
        "class Dog(Animal):\n",
        "    def __init__(self, name, breed):\n",
        "        # Call the parent's __init__ method\n",
        "        super().__init__(name, \"Dog\")  # This calls Animal's __init__\n",
        "        self.breed = breed\n",
        "        print(f\"This dog is a {breed}\")\n",
        "\n",
        "# Create a dog\n",
        "my_dog = Dog(\"Buddy\", \"Golden Retriever\")\n",
        "\n",
        "print(f\"Name: {my_dog.name}\")      # Buddy\n",
        "print(f\"Species: {my_dog.species}\") # Dog\n",
        "print(f\"Breed: {my_dog.breed}\")    # Golden Retriever"
      ],
      "metadata": {
        "colab": {
          "base_uri": "https://localhost:8080/"
        },
        "id": "OsuT6DMSQkqY",
        "outputId": "feb8f84c-c8fe-4f71-a3dc-ff8c4916f531"
      },
      "execution_count": 2,
      "outputs": [
        {
          "output_type": "stream",
          "name": "stdout",
          "text": [
            "Creating an animal named Buddy\n",
            "This dog is a Golden Retriever\n",
            "Name: Buddy\n",
            "Species: Dog\n",
            "Breed: Golden Retriever\n"
          ]
        }
      ]
    },
    {
      "cell_type": "markdown",
      "source": [
        "#Why Use Inheritance?\n"
      ],
      "metadata": {
        "id": "t1WdB8jRTIOI"
      }
    },
    {
      "cell_type": "markdown",
      "source": [
        "1. Don't Repeat Yourself: Write common code once in the parent\n",
        "2. Easy to Maintain: Change the parent, all children get the update\n",
        "3. Logical Organization: Groups related things together"
      ],
      "metadata": {
        "id": "RhLEIjcTRIAr"
      }
    },
    {
      "cell_type": "markdown",
      "source": [
        "#Real-World Example: Vehicles\n"
      ],
      "metadata": {
        "id": "2Zz2OAPJTRw3"
      }
    },
    {
      "cell_type": "code",
      "source": [
        "# Parent class\n",
        "class Vehicle:\n",
        "    def __init__(self, brand, year):\n",
        "        self.brand = brand\n",
        "        self.year = year\n",
        "        self.is_running = False\n",
        "\n",
        "    def start(self):\n",
        "        self.is_running = True\n",
        "        return f\"The {self.brand} is starting...\"\n",
        "\n",
        "    def stop(self):\n",
        "        self.is_running = False\n",
        "        return f\"The {self.brand} has stopped\"\n",
        "\n",
        "# Child classes\n",
        "class Car(Vehicle):\n",
        "    def __init__(self, brand, year, doors):\n",
        "        super().__init__(brand, year)  # Get brand and year from parent\n",
        "        self.doors = doors\n",
        "\n",
        "    def honk(self):\n",
        "        return \"Beep beep!\"\n",
        "\n",
        "class Motorcycle(Vehicle):\n",
        "    def __init__(self, brand, year, has_sidecar):\n",
        "        super().__init__(brand, year)  # Get brand and year from parent\n",
        "        self.has_sidecar = has_sidecar\n",
        "\n",
        "    def rev_engine(self):\n",
        "        return \"Vroom vroom!\"\n",
        "\n",
        "# Using them\n",
        "my_car = Car(\"Toyota\", 2020, 4)\n",
        "my_bike = Motorcycle(\"Harley\", 2019, False)\n",
        "\n",
        "# Both can do vehicle things\n",
        "print(my_car.start())     # The Toyota is starting...\n",
        "print(my_bike.start())    # The Harley is starting...\n",
        "\n",
        "# Each has special abilities\n",
        "print(my_car.honk())      # Beep beep!\n",
        "print(my_bike.rev_engine()) # Vroom vroom!"
      ],
      "metadata": {
        "colab": {
          "base_uri": "https://localhost:8080/"
        },
        "id": "ozURspoMQ94L",
        "outputId": "7d8ba70d-15f6-4e8e-d82c-2c192e95e33b"
      },
      "execution_count": 3,
      "outputs": [
        {
          "output_type": "stream",
          "name": "stdout",
          "text": [
            "The Toyota is starting...\n",
            "The Harley is starting...\n",
            "Beep beep!\n",
            "Vroom vroom!\n"
          ]
        }
      ]
    },
    {
      "cell_type": "markdown",
      "source": [
        "#Inheritance Exercises:"
      ],
      "metadata": {
        "id": "zT7-aC2aRpAy"
      }
    },
    {
      "cell_type": "markdown",
      "source": [
        "1. Create a base class Shape with method area(). Inherit it into Circle and Rectangle and override area().\n",
        "\n",
        "2. Build a class Person. Create Student and Teacher classes that inherit from it and have different describe() methods."
      ],
      "metadata": {
        "id": "MqYr6lseRqsJ"
      }
    }
  ]
}